{
 "cells": [
  {
   "cell_type": "markdown",
   "metadata": {},
   "source": [
    "### Importing Libraries"
   ]
  },
  {
   "cell_type": "code",
   "execution_count": 100,
   "metadata": {},
   "outputs": [],
   "source": [
    "import requests\n",
    "import pandas as pd\n",
    "import re\n",
    "import string\n",
    "import seaborn as sns"
   ]
  },
  {
   "cell_type": "markdown",
   "metadata": {},
   "source": [
    "### Scraping Tweets from Twitter"
   ]
  },
  {
   "cell_type": "code",
   "execution_count": null,
   "metadata": {},
   "outputs": [],
   "source": [
    "import snscrape.modules.twitter as sntwitter\n",
    "import pandas as pd\n",
    "\n",
    "query = \"(Reliance Industries) until:2020-07-30 since:2020-05-1\"\n",
    "Tweets = []\n",
    "limit = 20000\n",
    "\n",
    "\n",
    "for tweet in sntwitter.TwitterSearchScraper(query).get_items():\n",
    "    if len(Tweets) == limit:\n",
    "        break\n",
    "    if tweet.lang == 'en':\n",
    "        date = str(tweet.date).split(\" \")[0]\n",
    "        time = str(tweet.date).split(\" \")[1].split(\"+\")[0] \n",
    "        Tweets.append([date, time , tweet.content])\n",
    "        \n",
    "        \n",
    "df = pd.DataFrame(Tweets, columns=['Date', 'Time', 'Tweet'])\n",
    "print(df)\n",
    "\n",
    "# to save to csv\n",
    "# df.to_csv('tweets.csv')"
   ]
  },
  {
   "cell_type": "code",
   "execution_count": 37,
   "metadata": {},
   "outputs": [
    {
     "data": {
      "text/html": [
       "<div>\n",
       "<style scoped>\n",
       "    .dataframe tbody tr th:only-of-type {\n",
       "        vertical-align: middle;\n",
       "    }\n",
       "\n",
       "    .dataframe tbody tr th {\n",
       "        vertical-align: top;\n",
       "    }\n",
       "\n",
       "    .dataframe thead th {\n",
       "        text-align: right;\n",
       "    }\n",
       "</style>\n",
       "<table border=\"1\" class=\"dataframe\">\n",
       "  <thead>\n",
       "    <tr style=\"text-align: right;\">\n",
       "      <th></th>\n",
       "      <th>Date</th>\n",
       "      <th>User</th>\n",
       "      <th>Tweet</th>\n",
       "    </tr>\n",
       "  </thead>\n",
       "  <tbody>\n",
       "    <tr>\n",
       "      <th>0</th>\n",
       "      <td>2020-07-29</td>\n",
       "      <td>23:30:21</td>\n",
       "      <td>Reliance Industries to offer over Rs. 24,000 c...</td>\n",
       "    </tr>\n",
       "    <tr>\n",
       "      <th>1</th>\n",
       "      <td>2020-07-29</td>\n",
       "      <td>23:29:18</td>\n",
       "      <td>Reliance Industries Falls Most In Over 2 Month...</td>\n",
       "    </tr>\n",
       "    <tr>\n",
       "      <th>2</th>\n",
       "      <td>2020-07-29</td>\n",
       "      <td>22:30:33</td>\n",
       "      <td>ETTelecom | Brokerages expect Reliance to repo...</td>\n",
       "    </tr>\n",
       "    <tr>\n",
       "      <th>3</th>\n",
       "      <td>2020-07-29</td>\n",
       "      <td>22:00:28</td>\n",
       "      <td>ETTelecom | Brokerages expect Reliance to repo...</td>\n",
       "    </tr>\n",
       "    <tr>\n",
       "      <th>4</th>\n",
       "      <td>2020-07-29</td>\n",
       "      <td>20:16:21</td>\n",
       "      <td>Reliance Industries: Update and some wishful t...</td>\n",
       "    </tr>\n",
       "    <tr>\n",
       "      <th>...</th>\n",
       "      <td>...</td>\n",
       "      <td>...</td>\n",
       "      <td>...</td>\n",
       "    </tr>\n",
       "    <tr>\n",
       "      <th>15175</th>\n",
       "      <td>2020-05-01</td>\n",
       "      <td>00:36:36</td>\n",
       "      <td>TCS snatches most-profitable tag from Reliance...</td>\n",
       "    </tr>\n",
       "    <tr>\n",
       "      <th>15176</th>\n",
       "      <td>2020-05-01</td>\n",
       "      <td>00:34:36</td>\n",
       "      <td>Reliance Industries https://t.co/m38p7JUcN9</td>\n",
       "    </tr>\n",
       "    <tr>\n",
       "      <th>15177</th>\n",
       "      <td>2020-05-01</td>\n",
       "      <td>00:32:16</td>\n",
       "      <td>After Facebook, Reliance Industries in talks w...</td>\n",
       "    </tr>\n",
       "    <tr>\n",
       "      <th>15178</th>\n",
       "      <td>2020-05-01</td>\n",
       "      <td>00:24:42</td>\n",
       "      <td>Reliance Industries donates 500 cr to PM CARES...</td>\n",
       "    </tr>\n",
       "    <tr>\n",
       "      <th>15179</th>\n",
       "      <td>2020-05-01</td>\n",
       "      <td>00:23:27</td>\n",
       "      <td>Reliance Industries yesterday said it is on tr...</td>\n",
       "    </tr>\n",
       "  </tbody>\n",
       "</table>\n",
       "<p>15180 rows × 3 columns</p>\n",
       "</div>"
      ],
      "text/plain": [
       "             Date      User                                              Tweet\n",
       "0      2020-07-29  23:30:21  Reliance Industries to offer over Rs. 24,000 c...\n",
       "1      2020-07-29  23:29:18  Reliance Industries Falls Most In Over 2 Month...\n",
       "2      2020-07-29  22:30:33  ETTelecom | Brokerages expect Reliance to repo...\n",
       "3      2020-07-29  22:00:28  ETTelecom | Brokerages expect Reliance to repo...\n",
       "4      2020-07-29  20:16:21  Reliance Industries: Update and some wishful t...\n",
       "...           ...       ...                                                ...\n",
       "15175  2020-05-01  00:36:36  TCS snatches most-profitable tag from Reliance...\n",
       "15176  2020-05-01  00:34:36        Reliance Industries https://t.co/m38p7JUcN9\n",
       "15177  2020-05-01  00:32:16  After Facebook, Reliance Industries in talks w...\n",
       "15178  2020-05-01  00:24:42  Reliance Industries donates 500 cr to PM CARES...\n",
       "15179  2020-05-01  00:23:27  Reliance Industries yesterday said it is on tr...\n",
       "\n",
       "[15180 rows x 3 columns]"
      ]
     },
     "execution_count": 37,
     "metadata": {},
     "output_type": "execute_result"
    }
   ],
   "source": [
    "df"
   ]
  },
  {
   "cell_type": "markdown",
   "metadata": {},
   "source": [
    "### Cleaning our tweets"
   ]
  },
  {
   "cell_type": "code",
   "execution_count": 84,
   "metadata": {},
   "outputs": [
    {
     "data": {
      "text/plain": [
       "'!\"#$%&\\'()*+,-./:;<=>?@[\\\\]^_`{|}~'"
      ]
     },
     "execution_count": 84,
     "metadata": {},
     "output_type": "execute_result"
    }
   ],
   "source": [
    "string.punctuation"
   ]
  },
  {
   "cell_type": "code",
   "execution_count": 86,
   "metadata": {},
   "outputs": [
    {
     "data": {
      "text/html": [
       "<div>\n",
       "<style scoped>\n",
       "    .dataframe tbody tr th:only-of-type {\n",
       "        vertical-align: middle;\n",
       "    }\n",
       "\n",
       "    .dataframe tbody tr th {\n",
       "        vertical-align: top;\n",
       "    }\n",
       "\n",
       "    .dataframe thead th {\n",
       "        text-align: right;\n",
       "    }\n",
       "</style>\n",
       "<table border=\"1\" class=\"dataframe\">\n",
       "  <thead>\n",
       "    <tr style=\"text-align: right;\">\n",
       "      <th></th>\n",
       "      <th>Date</th>\n",
       "      <th>User</th>\n",
       "      <th>Tweet</th>\n",
       "    </tr>\n",
       "  </thead>\n",
       "  <tbody>\n",
       "    <tr>\n",
       "      <th>0</th>\n",
       "      <td>2020-07-29</td>\n",
       "      <td>23:30:21</td>\n",
       "      <td>Reliance Industries to offer over Rs  crore fo...</td>\n",
       "    </tr>\n",
       "    <tr>\n",
       "      <th>1</th>\n",
       "      <td>2020-07-29</td>\n",
       "      <td>23:29:18</td>\n",
       "      <td>Reliance Industries Falls Most In Over  Months...</td>\n",
       "    </tr>\n",
       "    <tr>\n",
       "      <th>2</th>\n",
       "      <td>2020-07-29</td>\n",
       "      <td>22:30:33</td>\n",
       "      <td>ETTelecom  Brokerages expect Reliance to repor...</td>\n",
       "    </tr>\n",
       "    <tr>\n",
       "      <th>3</th>\n",
       "      <td>2020-07-29</td>\n",
       "      <td>22:00:28</td>\n",
       "      <td>ETTelecom  Brokerages expect Reliance to repor...</td>\n",
       "    </tr>\n",
       "    <tr>\n",
       "      <th>4</th>\n",
       "      <td>2020-07-29</td>\n",
       "      <td>20:16:21</td>\n",
       "      <td>Reliance Industries Update and some wishful th...</td>\n",
       "    </tr>\n",
       "    <tr>\n",
       "      <th>5</th>\n",
       "      <td>2020-07-29</td>\n",
       "      <td>20:14:07</td>\n",
       "      <td>Results Tomorrow th July StockMarket Nifty Nif...</td>\n",
       "    </tr>\n",
       "    <tr>\n",
       "      <th>6</th>\n",
       "      <td>2020-07-29</td>\n",
       "      <td>19:57:24</td>\n",
       "      <td>Hope we had been AatmaNirbhar on Rafale tooYea...</td>\n",
       "    </tr>\n",
       "    <tr>\n",
       "      <th>7</th>\n",
       "      <td>2020-07-29</td>\n",
       "      <td>19:30:47</td>\n",
       "      <td>Reliance Industries overtakes Exxon to become ...</td>\n",
       "    </tr>\n",
       "    <tr>\n",
       "      <th>8</th>\n",
       "      <td>2020-07-29</td>\n",
       "      <td>19:15:20</td>\n",
       "      <td>Most expensive share in India is  MRF LTD Madr...</td>\n",
       "    </tr>\n",
       "    <tr>\n",
       "      <th>9</th>\n",
       "      <td>2020-07-29</td>\n",
       "      <td>19:14:38</td>\n",
       "      <td>Results Update RelianceIndustriesHDFCDaburTorr...</td>\n",
       "    </tr>\n",
       "  </tbody>\n",
       "</table>\n",
       "</div>"
      ],
      "text/plain": [
       "        Date      User                                              Tweet\n",
       "0 2020-07-29  23:30:21  Reliance Industries to offer over Rs  crore fo...\n",
       "1 2020-07-29  23:29:18  Reliance Industries Falls Most In Over  Months...\n",
       "2 2020-07-29  22:30:33  ETTelecom  Brokerages expect Reliance to repor...\n",
       "3 2020-07-29  22:00:28  ETTelecom  Brokerages expect Reliance to repor...\n",
       "4 2020-07-29  20:16:21  Reliance Industries Update and some wishful th...\n",
       "5 2020-07-29  20:14:07  Results Tomorrow th July StockMarket Nifty Nif...\n",
       "6 2020-07-29  19:57:24  Hope we had been AatmaNirbhar on Rafale tooYea...\n",
       "7 2020-07-29  19:30:47  Reliance Industries overtakes Exxon to become ...\n",
       "8 2020-07-29  19:15:20  Most expensive share in India is  MRF LTD Madr...\n",
       "9 2020-07-29  19:14:38  Results Update RelianceIndustriesHDFCDaburTorr..."
      ]
     },
     "execution_count": 86,
     "metadata": {},
     "output_type": "execute_result"
    }
   ],
   "source": [
    "def remove_punct(text):\n",
    "    text  = \"\".join([char for char in text if char not in string.punctuation])\n",
    "    text = re.sub('[0-9]+', '', text)\n",
    "    text = re.sub('\\n' , \"\", text)\n",
    "    emoji_pattern = re.compile(\"[\"\n",
    "        u\"\\U0001F600-\\U0001F64F\"  # emoticons\n",
    "        u\"\\U0001F300-\\U0001F5FF\"  # symbols & pictographs\n",
    "        u\"\\U0001F680-\\U0001F6FF\"  # transport & map symbols\n",
    "        u\"\\U0001F1E0-\\U0001F1FF\"  # flags (iOS)\n",
    "        u\"\\U00002500-\\U00002BEF\"  # chinese char\n",
    "        u\"\\U00002702-\\U000027B0\"\n",
    "        u\"\\U00002702-\\U000027B0\"\n",
    "        u\"\\U000024C2-\\U0001F251\"\n",
    "        u\"\\U0001f926-\\U0001f937\"\n",
    "        u\"\\U00010000-\\U0010ffff\"\n",
    "        u\"\\u2640-\\u2642\" \n",
    "        u\"\\u2600-\\u2B55\"\n",
    "        u\"\\u200d\"\n",
    "        u\"\\u23cf\"\n",
    "        u\"\\u23e9\"\n",
    "        u\"\\u231a\"\n",
    "        u\"\\ufe0f\"  # dingbats\n",
    "        u\"\\u3030\"\n",
    "                      \"]+\", re.UNICODE)\n",
    "    emoji_pattern.sub(r'', text) # no emoji\n",
    "    return text\n",
    "\n",
    "df['Tweet'] = df['Tweet'].apply(lambda x: remove_punct(x))\n",
    "df.head(10)"
   ]
  },
  {
   "cell_type": "markdown",
   "metadata": {},
   "source": [
    "### Sentiment Analysis using Flair Library\n",
    "* This model splits the text into character-level tokens and uses the DistilBERT model to make predictions.\n",
    "* The advantage of working at the character-level (as opposed to word-level) is that words that the network has never seen before can still be assigned a sentiment.\n",
    "* DistilBERT is distilled version of the powerful BERT transformer model which in short means it is a small model (only 66 million parameters) and is still super powerful."
   ]
  },
  {
   "cell_type": "code",
   "execution_count": 90,
   "metadata": {},
   "outputs": [
    {
     "name": "stdout",
     "output_type": "stream",
     "text": [
      "2022-08-04 17:23:41,284 loading file C:\\Users\\LENOVO\\.flair\\models\\sentiment-en-mix-distillbert_4.pt\n"
     ]
    }
   ],
   "source": [
    "import flair\n",
    "sentiment_model = flair.models.TextClassifier.load('en-sentiment')"
   ]
  },
  {
   "cell_type": "code",
   "execution_count": 91,
   "metadata": {},
   "outputs": [],
   "source": [
    "probs_list = []\n",
    "sentiment_list = []\n",
    "\n",
    "def predict(Tweet):\n",
    "        for i in range(len(Tweet)):\n",
    "                sentence = flair.data.Sentence(Tweet[i])\n",
    "                sentiment_model.predict(sentence)\n",
    "                \n",
    "                probs = sentence.labels[0].score\n",
    "                sentiment = sentence.labels[0].value\n",
    "        \n",
    "                probs_list.append(probs)\n",
    "                sentiment_list.append(sentiment)\n",
    "        \n",
    "        # data = {\"Probaility\": probs_list,\n",
    "        #         \"Sentiment\": sentiment_list}\n",
    "        return probs_list , sentiment_list"
   ]
  },
  {
   "cell_type": "code",
   "execution_count": 92,
   "metadata": {},
   "outputs": [],
   "source": [
    "prob_list , sent_list = predict(df['Tweet'])"
   ]
  },
  {
   "cell_type": "code",
   "execution_count": 93,
   "metadata": {},
   "outputs": [],
   "source": [
    "df['Probability'] = probs_list\n",
    "df['Sentiment'] = sent_list"
   ]
  },
  {
   "cell_type": "code",
   "execution_count": 94,
   "metadata": {},
   "outputs": [
    {
     "data": {
      "text/html": [
       "<div>\n",
       "<style scoped>\n",
       "    .dataframe tbody tr th:only-of-type {\n",
       "        vertical-align: middle;\n",
       "    }\n",
       "\n",
       "    .dataframe tbody tr th {\n",
       "        vertical-align: top;\n",
       "    }\n",
       "\n",
       "    .dataframe thead th {\n",
       "        text-align: right;\n",
       "    }\n",
       "</style>\n",
       "<table border=\"1\" class=\"dataframe\">\n",
       "  <thead>\n",
       "    <tr style=\"text-align: right;\">\n",
       "      <th></th>\n",
       "      <th>Date</th>\n",
       "      <th>User</th>\n",
       "      <th>Tweet</th>\n",
       "      <th>Probability</th>\n",
       "      <th>Sentiment</th>\n",
       "    </tr>\n",
       "  </thead>\n",
       "  <tbody>\n",
       "    <tr>\n",
       "      <th>0</th>\n",
       "      <td>2020-07-29</td>\n",
       "      <td>23:30:21</td>\n",
       "      <td>Reliance Industries to offer over Rs  crore fo...</td>\n",
       "      <td>0.980158</td>\n",
       "      <td>POSITIVE</td>\n",
       "    </tr>\n",
       "    <tr>\n",
       "      <th>1</th>\n",
       "      <td>2020-07-29</td>\n",
       "      <td>23:29:18</td>\n",
       "      <td>Reliance Industries Falls Most In Over  Months...</td>\n",
       "      <td>0.995565</td>\n",
       "      <td>NEGATIVE</td>\n",
       "    </tr>\n",
       "    <tr>\n",
       "      <th>2</th>\n",
       "      <td>2020-07-29</td>\n",
       "      <td>22:30:33</td>\n",
       "      <td>ETTelecom  Brokerages expect Reliance to repor...</td>\n",
       "      <td>0.898588</td>\n",
       "      <td>NEGATIVE</td>\n",
       "    </tr>\n",
       "    <tr>\n",
       "      <th>3</th>\n",
       "      <td>2020-07-29</td>\n",
       "      <td>22:00:28</td>\n",
       "      <td>ETTelecom  Brokerages expect Reliance to repor...</td>\n",
       "      <td>0.933012</td>\n",
       "      <td>NEGATIVE</td>\n",
       "    </tr>\n",
       "    <tr>\n",
       "      <th>4</th>\n",
       "      <td>2020-07-29</td>\n",
       "      <td>20:16:21</td>\n",
       "      <td>Reliance Industries Update and some wishful th...</td>\n",
       "      <td>0.994781</td>\n",
       "      <td>NEGATIVE</td>\n",
       "    </tr>\n",
       "  </tbody>\n",
       "</table>\n",
       "</div>"
      ],
      "text/plain": [
       "        Date      User                                              Tweet  \\\n",
       "0 2020-07-29  23:30:21  Reliance Industries to offer over Rs  crore fo...   \n",
       "1 2020-07-29  23:29:18  Reliance Industries Falls Most In Over  Months...   \n",
       "2 2020-07-29  22:30:33  ETTelecom  Brokerages expect Reliance to repor...   \n",
       "3 2020-07-29  22:00:28  ETTelecom  Brokerages expect Reliance to repor...   \n",
       "4 2020-07-29  20:16:21  Reliance Industries Update and some wishful th...   \n",
       "\n",
       "   Probability Sentiment  \n",
       "0     0.980158  POSITIVE  \n",
       "1     0.995565  NEGATIVE  \n",
       "2     0.898588  NEGATIVE  \n",
       "3     0.933012  NEGATIVE  \n",
       "4     0.994781  NEGATIVE  "
      ]
     },
     "execution_count": 94,
     "metadata": {},
     "output_type": "execute_result"
    }
   ],
   "source": [
    "df.head()"
   ]
  },
  {
   "cell_type": "code",
   "execution_count": 99,
   "metadata": {},
   "outputs": [
    {
     "data": {
      "text/plain": [
       "NEGATIVE    7831\n",
       "POSITIVE    7349\n",
       "Name: Sentiment, dtype: int64"
      ]
     },
     "execution_count": 99,
     "metadata": {},
     "output_type": "execute_result"
    }
   ],
   "source": [
    "df['Sentiment'].value_counts()"
   ]
  },
  {
   "cell_type": "markdown",
   "metadata": {},
   "source": [
    "### Using Yahoo Finance"
   ]
  },
  {
   "cell_type": "code",
   "execution_count": 38,
   "metadata": {},
   "outputs": [],
   "source": [
    "import yfinance as yf"
   ]
  },
  {
   "cell_type": "code",
   "execution_count": 65,
   "metadata": {},
   "outputs": [
    {
     "name": "stdout",
     "output_type": "stream",
     "text": [
      "<class 'pandas.core.frame.DataFrame'>\n",
      "RangeIndex: 15180 entries, 0 to 15179\n",
      "Data columns (total 3 columns):\n",
      " #   Column  Non-Null Count  Dtype \n",
      "---  ------  --------------  ----- \n",
      " 0   Date    15180 non-null  object\n",
      " 1   User    15180 non-null  object\n",
      " 2   Tweet   15180 non-null  object\n",
      "dtypes: object(3)\n",
      "memory usage: 355.9+ KB\n"
     ]
    }
   ],
   "source": [
    "df.info()"
   ]
  },
  {
   "cell_type": "code",
   "execution_count": 66,
   "metadata": {},
   "outputs": [],
   "source": [
    "df.Date = pd.to_datetime(df['Date'])"
   ]
  },
  {
   "cell_type": "code",
   "execution_count": 71,
   "metadata": {},
   "outputs": [
    {
     "data": {
      "text/plain": [
       "(Timestamp('2020-05-01 00:00:00'), '2020-07-29')"
      ]
     },
     "execution_count": 71,
     "metadata": {},
     "output_type": "execute_result"
    }
   ],
   "source": [
    "df.Date.min(), df.Date.max().strftime('%Y-%m-%d')"
   ]
  },
  {
   "cell_type": "code",
   "execution_count": 76,
   "metadata": {},
   "outputs": [],
   "source": [
    "Reliance = yf.Ticker(\"RELIANCE.NS\")\n",
    "Reliance_stock = Reliance.history(\n",
    "    start = (df.Date.min()).strftime('%Y-%m-%d'),\n",
    "    end = df.Date.max().strftime('%Y-%m-%d'),\n",
    "    interval='1d'\n",
    ").reset_index()"
   ]
  },
  {
   "cell_type": "code",
   "execution_count": 77,
   "metadata": {},
   "outputs": [
    {
     "data": {
      "text/html": [
       "<div>\n",
       "<style scoped>\n",
       "    .dataframe tbody tr th:only-of-type {\n",
       "        vertical-align: middle;\n",
       "    }\n",
       "\n",
       "    .dataframe tbody tr th {\n",
       "        vertical-align: top;\n",
       "    }\n",
       "\n",
       "    .dataframe thead th {\n",
       "        text-align: right;\n",
       "    }\n",
       "</style>\n",
       "<table border=\"1\" class=\"dataframe\">\n",
       "  <thead>\n",
       "    <tr style=\"text-align: right;\">\n",
       "      <th></th>\n",
       "      <th>Date</th>\n",
       "      <th>Open</th>\n",
       "      <th>High</th>\n",
       "      <th>Low</th>\n",
       "      <th>Close</th>\n",
       "      <th>Volume</th>\n",
       "      <th>Dividends</th>\n",
       "      <th>Stock Splits</th>\n",
       "    </tr>\n",
       "  </thead>\n",
       "  <tbody>\n",
       "    <tr>\n",
       "      <th>0</th>\n",
       "      <td>2020-05-04</td>\n",
       "      <td>1416.585187</td>\n",
       "      <td>1441.178689</td>\n",
       "      <td>1394.401855</td>\n",
       "      <td>1411.863281</td>\n",
       "      <td>24670336</td>\n",
       "      <td>0.0</td>\n",
       "      <td>0</td>\n",
       "    </tr>\n",
       "    <tr>\n",
       "      <th>1</th>\n",
       "      <td>2020-05-05</td>\n",
       "      <td>1430.062518</td>\n",
       "      <td>1454.951079</td>\n",
       "      <td>1423.668210</td>\n",
       "      <td>1436.899414</td>\n",
       "      <td>20723079</td>\n",
       "      <td>0.0</td>\n",
       "      <td>0</td>\n",
       "    </tr>\n",
       "    <tr>\n",
       "      <th>2</th>\n",
       "      <td>2020-05-06</td>\n",
       "      <td>1440.195079</td>\n",
       "      <td>1460.804444</td>\n",
       "      <td>1421.995884</td>\n",
       "      <td>1436.997925</td>\n",
       "      <td>18685710</td>\n",
       "      <td>0.0</td>\n",
       "      <td>0</td>\n",
       "    </tr>\n",
       "    <tr>\n",
       "      <th>3</th>\n",
       "      <td>2020-05-07</td>\n",
       "      <td>1431.341286</td>\n",
       "      <td>1489.037709</td>\n",
       "      <td>1421.503982</td>\n",
       "      <td>1482.446655</td>\n",
       "      <td>23087436</td>\n",
       "      <td>0.0</td>\n",
       "      <td>0</td>\n",
       "    </tr>\n",
       "    <tr>\n",
       "      <th>4</th>\n",
       "      <td>2020-05-08</td>\n",
       "      <td>1519.877872</td>\n",
       "      <td>1554.210366</td>\n",
       "      <td>1512.106342</td>\n",
       "      <td>1536.404785</td>\n",
       "      <td>38887255</td>\n",
       "      <td>0.0</td>\n",
       "      <td>0</td>\n",
       "    </tr>\n",
       "    <tr>\n",
       "      <th>...</th>\n",
       "      <td>...</td>\n",
       "      <td>...</td>\n",
       "      <td>...</td>\n",
       "      <td>...</td>\n",
       "      <td>...</td>\n",
       "      <td>...</td>\n",
       "      <td>...</td>\n",
       "      <td>...</td>\n",
       "    </tr>\n",
       "    <tr>\n",
       "      <th>56</th>\n",
       "      <td>2020-07-22</td>\n",
       "      <td>1976.641313</td>\n",
       "      <td>2003.554735</td>\n",
       "      <td>1954.412772</td>\n",
       "      <td>1997.573975</td>\n",
       "      <td>27584518</td>\n",
       "      <td>0.0</td>\n",
       "      <td>0</td>\n",
       "    </tr>\n",
       "    <tr>\n",
       "      <th>57</th>\n",
       "      <td>2020-07-23</td>\n",
       "      <td>1997.523996</td>\n",
       "      <td>2073.031093</td>\n",
       "      <td>1984.964425</td>\n",
       "      <td>2051.201416</td>\n",
       "      <td>26921017</td>\n",
       "      <td>0.0</td>\n",
       "      <td>0</td>\n",
       "    </tr>\n",
       "    <tr>\n",
       "      <th>58</th>\n",
       "      <td>2020-07-24</td>\n",
       "      <td>2051.400825</td>\n",
       "      <td>2156.064133</td>\n",
       "      <td>2051.201515</td>\n",
       "      <td>2139.268066</td>\n",
       "      <td>55655668</td>\n",
       "      <td>0.0</td>\n",
       "      <td>0</td>\n",
       "    </tr>\n",
       "    <tr>\n",
       "      <th>59</th>\n",
       "      <td>2020-07-27</td>\n",
       "      <td>2171.813517</td>\n",
       "      <td>2191.749385</td>\n",
       "      <td>2121.076587</td>\n",
       "      <td>2149.285889</td>\n",
       "      <td>37060665</td>\n",
       "      <td>0.0</td>\n",
       "      <td>0</td>\n",
       "    </tr>\n",
       "    <tr>\n",
       "      <th>60</th>\n",
       "      <td>2020-07-28</td>\n",
       "      <td>2149.285740</td>\n",
       "      <td>2186.964577</td>\n",
       "      <td>2143.753488</td>\n",
       "      <td>2170.716797</td>\n",
       "      <td>25435297</td>\n",
       "      <td>0.0</td>\n",
       "      <td>0</td>\n",
       "    </tr>\n",
       "  </tbody>\n",
       "</table>\n",
       "<p>61 rows × 8 columns</p>\n",
       "</div>"
      ],
      "text/plain": [
       "         Date         Open         High          Low        Close    Volume  \\\n",
       "0  2020-05-04  1416.585187  1441.178689  1394.401855  1411.863281  24670336   \n",
       "1  2020-05-05  1430.062518  1454.951079  1423.668210  1436.899414  20723079   \n",
       "2  2020-05-06  1440.195079  1460.804444  1421.995884  1436.997925  18685710   \n",
       "3  2020-05-07  1431.341286  1489.037709  1421.503982  1482.446655  23087436   \n",
       "4  2020-05-08  1519.877872  1554.210366  1512.106342  1536.404785  38887255   \n",
       "..        ...          ...          ...          ...          ...       ...   \n",
       "56 2020-07-22  1976.641313  2003.554735  1954.412772  1997.573975  27584518   \n",
       "57 2020-07-23  1997.523996  2073.031093  1984.964425  2051.201416  26921017   \n",
       "58 2020-07-24  2051.400825  2156.064133  2051.201515  2139.268066  55655668   \n",
       "59 2020-07-27  2171.813517  2191.749385  2121.076587  2149.285889  37060665   \n",
       "60 2020-07-28  2149.285740  2186.964577  2143.753488  2170.716797  25435297   \n",
       "\n",
       "    Dividends  Stock Splits  \n",
       "0         0.0             0  \n",
       "1         0.0             0  \n",
       "2         0.0             0  \n",
       "3         0.0             0  \n",
       "4         0.0             0  \n",
       "..        ...           ...  \n",
       "56        0.0             0  \n",
       "57        0.0             0  \n",
       "58        0.0             0  \n",
       "59        0.0             0  \n",
       "60        0.0             0  \n",
       "\n",
       "[61 rows x 8 columns]"
      ]
     },
     "execution_count": 77,
     "metadata": {},
     "output_type": "execute_result"
    }
   ],
   "source": [
    "Reliance_stock"
   ]
  },
  {
   "cell_type": "code",
   "execution_count": 80,
   "metadata": {},
   "outputs": [],
   "source": [
    "import matplotlib.pyplot as plt"
   ]
  },
  {
   "cell_type": "code",
   "execution_count": 103,
   "metadata": {},
   "outputs": [
    {
     "data": {
      "text/plain": [
       "Text(0, 0.5, 'Price')"
      ]
     },
     "execution_count": 103,
     "metadata": {},
     "output_type": "execute_result"
    },
    {
     "data": {
      "image/png": "[encoded data removed]",
      "text/plain": [
       "<Figure size 1080x576 with 1 Axes>"
      ]
     },
     "metadata": {},
     "output_type": "display_data"
    }
   ],
   "source": [
    "Reliance_stock[['Close']].plot(figsize = (15, 8), alpha = 0.5)\n",
    "plt.xlabel(\"Days\")\n",
    "plt.ylabel(\"Price\")"
   ]
  },
  {
   "cell_type": "code",
   "execution_count": 107,
   "metadata": {},
   "outputs": [],
   "source": [
    "import datetime"
   ]
  },
  {
   "cell_type": "code",
   "execution_count": 148,
   "metadata": {},
   "outputs": [
    {
     "data": {
      "text/plain": [
       "Timestamp('2020-05-01 00:00:00')"
      ]
     },
     "execution_count": 148,
     "metadata": {},
     "output_type": "execute_result"
    }
   ],
   "source": [
    "df['Date'].min()"
   ]
  },
  {
   "cell_type": "code",
   "execution_count": 127,
   "metadata": {},
   "outputs": [
    {
     "data": {
      "text/plain": [
       "Timestamp('2020-06-30 00:00:00')"
      ]
     },
     "execution_count": 127,
     "metadata": {},
     "output_type": "execute_result"
    }
   ],
   "source": [
    "df['Date'][5950]"
   ]
  },
  {
   "cell_type": "code",
   "execution_count": 128,
   "metadata": {},
   "outputs": [
    {
     "name": "stdout",
     "output_type": "stream",
     "text": [
      "2020-07-01 00:00:00\n"
     ]
    }
   ],
   "source": [
    "my_date_days = df['Date'][5950] + datetime.timedelta(days = 1)\n",
    "print(my_date_days)"
   ]
  },
  {
   "cell_type": "code",
   "execution_count": 156,
   "metadata": {},
   "outputs": [
    {
     "data": {
      "text/plain": [
       "(Timestamp('2020-05-01 00:00:00'), '2020-05-01')"
      ]
     },
     "execution_count": 156,
     "metadata": {},
     "output_type": "execute_result"
    }
   ],
   "source": [
    "df['Date'].min() , str(df['Date'][15179]).split(\" \")[0]"
   ]
  },
  {
   "cell_type": "code",
   "execution_count": 264,
   "metadata": {},
   "outputs": [
    {
     "data": {
      "text/html": [
       "<div>\n",
       "<style scoped>\n",
       "    .dataframe tbody tr th:only-of-type {\n",
       "        vertical-align: middle;\n",
       "    }\n",
       "\n",
       "    .dataframe tbody tr th {\n",
       "        vertical-align: top;\n",
       "    }\n",
       "\n",
       "    .dataframe thead th {\n",
       "        text-align: right;\n",
       "    }\n",
       "</style>\n",
       "<table border=\"1\" class=\"dataframe\">\n",
       "  <thead>\n",
       "    <tr style=\"text-align: right;\">\n",
       "      <th></th>\n",
       "      <th>Date</th>\n",
       "      <th>Count</th>\n",
       "    </tr>\n",
       "  </thead>\n",
       "  <tbody>\n",
       "    <tr>\n",
       "      <th>0</th>\n",
       "      <td>2020-07-29</td>\n",
       "      <td>178</td>\n",
       "    </tr>\n",
       "    <tr>\n",
       "      <th>1</th>\n",
       "      <td>2020-07-28</td>\n",
       "      <td>154</td>\n",
       "    </tr>\n",
       "    <tr>\n",
       "      <th>2</th>\n",
       "      <td>2020-07-27</td>\n",
       "      <td>188</td>\n",
       "    </tr>\n",
       "    <tr>\n",
       "      <th>3</th>\n",
       "      <td>2020-07-26</td>\n",
       "      <td>96</td>\n",
       "    </tr>\n",
       "    <tr>\n",
       "      <th>4</th>\n",
       "      <td>2020-07-25</td>\n",
       "      <td>126</td>\n",
       "    </tr>\n",
       "    <tr>\n",
       "      <th>...</th>\n",
       "      <td>...</td>\n",
       "      <td>...</td>\n",
       "    </tr>\n",
       "    <tr>\n",
       "      <th>85</th>\n",
       "      <td>2020-05-05</td>\n",
       "      <td>97</td>\n",
       "    </tr>\n",
       "    <tr>\n",
       "      <th>86</th>\n",
       "      <td>2020-05-04</td>\n",
       "      <td>319</td>\n",
       "    </tr>\n",
       "    <tr>\n",
       "      <th>87</th>\n",
       "      <td>2020-05-03</td>\n",
       "      <td>73</td>\n",
       "    </tr>\n",
       "    <tr>\n",
       "      <th>88</th>\n",
       "      <td>2020-05-02</td>\n",
       "      <td>78</td>\n",
       "    </tr>\n",
       "    <tr>\n",
       "      <th>89</th>\n",
       "      <td>2020-05-01</td>\n",
       "      <td>220</td>\n",
       "    </tr>\n",
       "  </tbody>\n",
       "</table>\n",
       "<p>90 rows × 2 columns</p>\n",
       "</div>"
      ],
      "text/plain": [
       "         Date  Count\n",
       "0  2020-07-29    178\n",
       "1  2020-07-28    154\n",
       "2  2020-07-27    188\n",
       "3  2020-07-26     96\n",
       "4  2020-07-25    126\n",
       "..        ...    ...\n",
       "85 2020-05-05     97\n",
       "86 2020-05-04    319\n",
       "87 2020-05-03     73\n",
       "88 2020-05-02     78\n",
       "89 2020-05-01    220\n",
       "\n",
       "[90 rows x 2 columns]"
      ]
     },
     "execution_count": 264,
     "metadata": {},
     "output_type": "execute_result"
    }
   ],
   "source": [
    "meh = df['Date'].value_counts(sort = False)\n",
    "D_C = pd.DataFrame(meh)\n",
    "D_C = D_C.reset_index().rename(columns={'index': 'Date', \"Date\": \"Count\"})\n",
    "D_C"
   ]
  },
  {
   "cell_type": "code",
   "execution_count": 265,
   "metadata": {},
   "outputs": [],
   "source": [
    "Count_list = list(D_C[\"Count\"])"
   ]
  },
  {
   "cell_type": "code",
   "execution_count": 266,
   "metadata": {},
   "outputs": [
    {
     "data": {
      "text/plain": [
       "[0.88732291272517,\n",
       " 0.8797393220585662,\n",
       " 0.835088516486452,\n",
       " 0.8888167360176643,\n",
       " 0.8751993699679299,\n",
       " 0.8803623946605886,\n",
       " 0.8772546217098074,\n",
       " 0.8937973500472571,\n",
       " 0.8992759452925788,\n",
       " 0.8930399941874074,\n",
       " 0.9027032158146165,\n",
       " 0.8850871467072031,\n",
       " 0.8814902001792945,\n",
       " 0.9043703071457555,\n",
       " 0.8808095746757553,\n",
       " 0.8862911644266612,\n",
       " 0.8783212644438589,\n",
       " 0.8795251909530524,\n",
       " 0.8954805997110182,\n",
       " 0.8871401847625265,\n",
       " 0.887510746717453,\n",
       " 0.8744003310799598,\n",
       " 0.8892796644940972,\n",
       " 0.8627308237500586,\n",
       " 0.8362623929977417,\n",
       " 0.8629748060042599,\n",
       " 0.8472512244708895,\n",
       " 0.8855360089722326,\n",
       " 0.8823933365444342,\n",
       " 0.8581447587771849,\n",
       " 0.913225947199641,\n",
       " 0.8617058558897539,\n",
       " 0.9214767628245883,\n",
       " 0.8678746137066163,\n",
       " 0.8809456626574198,\n",
       " 0.8817313141618038,\n",
       " 0.8629760925931141,\n",
       " 0.8921955592363212,\n",
       " 0.870897665472314,\n",
       " 0.891745563442185,\n",
       " 0.8563142086201083,\n",
       " 0.8645862994194031,\n",
       " 0.8659229626258215,\n",
       " 0.8799507292834196,\n",
       " 0.890317164773318,\n",
       " 0.8442997488760411,\n",
       " 0.8719691102727881,\n",
       " 0.8572561101913452,\n",
       " 0.8808187686261677,\n",
       " 0.8806882995240232,\n",
       " 0.9028754734992981,\n",
       " 0.8800181235585894,\n",
       " 0.853538427663886,\n",
       " 0.8756170141415334,\n",
       " 0.8339945772588948,\n",
       " 0.8559299786200468,\n",
       " 0.9042017702993593,\n",
       " 0.8892098510966582,\n",
       " 0.9141400556698024,\n",
       " 0.9101469389443259,\n",
       " 0.8794520874412692,\n",
       " 0.9087527161357046,\n",
       " 0.903477522764313,\n",
       " 0.9012799669916813,\n",
       " 0.9098169672489166,\n",
       " 0.889664918519138,\n",
       " 0.892147421836853,\n",
       " 0.8592275652815314,\n",
       " 0.8759965274644934,\n",
       " 0.8963481503725051,\n",
       " 0.8722292552340216,\n",
       " 0.8510044818002034,\n",
       " 0.8529568833112716,\n",
       " 0.8496012349626911,\n",
       " 0.8482968469776174,\n",
       " 0.8687410830032258,\n",
       " 0.912616008693732,\n",
       " 0.9110978966535523,\n",
       " 0.8957097221921374,\n",
       " 0.8794898557662963,\n",
       " 0.8629064012819262,\n",
       " 0.9037385484297499,\n",
       " 0.8780922611460301,\n",
       " 0.8972254906381879,\n",
       " 0.8999162180514275,\n",
       " 0.8505208221907469,\n",
       " 0.882814183877927,\n",
       " 0.8675736107238351,\n",
       " 0.9191083885156192,\n",
       " 0.8899808778004212]"
      ]
     },
     "execution_count": 266,
     "metadata": {},
     "output_type": "execute_result"
    }
   ],
   "source": [
    "i = 0\n",
    "j = 0\n",
    "average = []\n",
    "\n",
    "while i != len(df):\n",
    "    sum = df['Probability'][i : i + Count_list[j]].sum()\n",
    "    average.append(sum / Count_list[j])\n",
    "    i += Count_list[j]\n",
    "    j += 1\n",
    "average    "
   ]
  },
  {
   "cell_type": "code",
   "execution_count": 267,
   "metadata": {},
   "outputs": [],
   "source": [
    "D_C['Average_Probability'] = average"
   ]
  },
  {
   "cell_type": "code",
   "execution_count": 268,
   "metadata": {},
   "outputs": [
    {
     "data": {
      "text/html": [
       "<div>\n",
       "<style scoped>\n",
       "    .dataframe tbody tr th:only-of-type {\n",
       "        vertical-align: middle;\n",
       "    }\n",
       "\n",
       "    .dataframe tbody tr th {\n",
       "        vertical-align: top;\n",
       "    }\n",
       "\n",
       "    .dataframe thead th {\n",
       "        text-align: right;\n",
       "    }\n",
       "</style>\n",
       "<table border=\"1\" class=\"dataframe\">\n",
       "  <thead>\n",
       "    <tr style=\"text-align: right;\">\n",
       "      <th></th>\n",
       "      <th>Date</th>\n",
       "      <th>Count</th>\n",
       "      <th>Average_Probability</th>\n",
       "    </tr>\n",
       "  </thead>\n",
       "  <tbody>\n",
       "    <tr>\n",
       "      <th>0</th>\n",
       "      <td>2020-07-29</td>\n",
       "      <td>178</td>\n",
       "      <td>0.887323</td>\n",
       "    </tr>\n",
       "    <tr>\n",
       "      <th>1</th>\n",
       "      <td>2020-07-28</td>\n",
       "      <td>154</td>\n",
       "      <td>0.879739</td>\n",
       "    </tr>\n",
       "    <tr>\n",
       "      <th>2</th>\n",
       "      <td>2020-07-27</td>\n",
       "      <td>188</td>\n",
       "      <td>0.835089</td>\n",
       "    </tr>\n",
       "    <tr>\n",
       "      <th>3</th>\n",
       "      <td>2020-07-26</td>\n",
       "      <td>96</td>\n",
       "      <td>0.888817</td>\n",
       "    </tr>\n",
       "    <tr>\n",
       "      <th>4</th>\n",
       "      <td>2020-07-25</td>\n",
       "      <td>126</td>\n",
       "      <td>0.875199</td>\n",
       "    </tr>\n",
       "    <tr>\n",
       "      <th>...</th>\n",
       "      <td>...</td>\n",
       "      <td>...</td>\n",
       "      <td>...</td>\n",
       "    </tr>\n",
       "    <tr>\n",
       "      <th>85</th>\n",
       "      <td>2020-05-05</td>\n",
       "      <td>97</td>\n",
       "      <td>0.850521</td>\n",
       "    </tr>\n",
       "    <tr>\n",
       "      <th>86</th>\n",
       "      <td>2020-05-04</td>\n",
       "      <td>319</td>\n",
       "      <td>0.882814</td>\n",
       "    </tr>\n",
       "    <tr>\n",
       "      <th>87</th>\n",
       "      <td>2020-05-03</td>\n",
       "      <td>73</td>\n",
       "      <td>0.867574</td>\n",
       "    </tr>\n",
       "    <tr>\n",
       "      <th>88</th>\n",
       "      <td>2020-05-02</td>\n",
       "      <td>78</td>\n",
       "      <td>0.919108</td>\n",
       "    </tr>\n",
       "    <tr>\n",
       "      <th>89</th>\n",
       "      <td>2020-05-01</td>\n",
       "      <td>220</td>\n",
       "      <td>0.889981</td>\n",
       "    </tr>\n",
       "  </tbody>\n",
       "</table>\n",
       "<p>90 rows × 3 columns</p>\n",
       "</div>"
      ],
      "text/plain": [
       "         Date  Count  Average_Probability\n",
       "0  2020-07-29    178             0.887323\n",
       "1  2020-07-28    154             0.879739\n",
       "2  2020-07-27    188             0.835089\n",
       "3  2020-07-26     96             0.888817\n",
       "4  2020-07-25    126             0.875199\n",
       "..        ...    ...                  ...\n",
       "85 2020-05-05     97             0.850521\n",
       "86 2020-05-04    319             0.882814\n",
       "87 2020-05-03     73             0.867574\n",
       "88 2020-05-02     78             0.919108\n",
       "89 2020-05-01    220             0.889981\n",
       "\n",
       "[90 rows x 3 columns]"
      ]
     },
     "execution_count": 268,
     "metadata": {},
     "output_type": "execute_result"
    }
   ],
   "source": [
    "D_C"
   ]
  },
  {
   "cell_type": "code",
   "execution_count": 269,
   "metadata": {},
   "outputs": [],
   "source": [
    "# Reverse rows using iloc() Function\n",
    "D_C_N = D_C[::-1].reset_index(drop = True)"
   ]
  },
  {
   "cell_type": "code",
   "execution_count": 270,
   "metadata": {},
   "outputs": [
    {
     "data": {
      "text/html": [
       "<div>\n",
       "<style scoped>\n",
       "    .dataframe tbody tr th:only-of-type {\n",
       "        vertical-align: middle;\n",
       "    }\n",
       "\n",
       "    .dataframe tbody tr th {\n",
       "        vertical-align: top;\n",
       "    }\n",
       "\n",
       "    .dataframe thead th {\n",
       "        text-align: right;\n",
       "    }\n",
       "</style>\n",
       "<table border=\"1\" class=\"dataframe\">\n",
       "  <thead>\n",
       "    <tr style=\"text-align: right;\">\n",
       "      <th></th>\n",
       "      <th>Date</th>\n",
       "      <th>Count</th>\n",
       "      <th>Average_Probability</th>\n",
       "    </tr>\n",
       "  </thead>\n",
       "  <tbody>\n",
       "    <tr>\n",
       "      <th>0</th>\n",
       "      <td>2020-05-01</td>\n",
       "      <td>220</td>\n",
       "      <td>0.889981</td>\n",
       "    </tr>\n",
       "    <tr>\n",
       "      <th>1</th>\n",
       "      <td>2020-05-02</td>\n",
       "      <td>78</td>\n",
       "      <td>0.919108</td>\n",
       "    </tr>\n",
       "    <tr>\n",
       "      <th>2</th>\n",
       "      <td>2020-05-03</td>\n",
       "      <td>73</td>\n",
       "      <td>0.867574</td>\n",
       "    </tr>\n",
       "    <tr>\n",
       "      <th>3</th>\n",
       "      <td>2020-05-04</td>\n",
       "      <td>319</td>\n",
       "      <td>0.882814</td>\n",
       "    </tr>\n",
       "    <tr>\n",
       "      <th>4</th>\n",
       "      <td>2020-05-05</td>\n",
       "      <td>97</td>\n",
       "      <td>0.850521</td>\n",
       "    </tr>\n",
       "    <tr>\n",
       "      <th>...</th>\n",
       "      <td>...</td>\n",
       "      <td>...</td>\n",
       "      <td>...</td>\n",
       "    </tr>\n",
       "    <tr>\n",
       "      <th>85</th>\n",
       "      <td>2020-07-25</td>\n",
       "      <td>126</td>\n",
       "      <td>0.875199</td>\n",
       "    </tr>\n",
       "    <tr>\n",
       "      <th>86</th>\n",
       "      <td>2020-07-26</td>\n",
       "      <td>96</td>\n",
       "      <td>0.888817</td>\n",
       "    </tr>\n",
       "    <tr>\n",
       "      <th>87</th>\n",
       "      <td>2020-07-27</td>\n",
       "      <td>188</td>\n",
       "      <td>0.835089</td>\n",
       "    </tr>\n",
       "    <tr>\n",
       "      <th>88</th>\n",
       "      <td>2020-07-28</td>\n",
       "      <td>154</td>\n",
       "      <td>0.879739</td>\n",
       "    </tr>\n",
       "    <tr>\n",
       "      <th>89</th>\n",
       "      <td>2020-07-29</td>\n",
       "      <td>178</td>\n",
       "      <td>0.887323</td>\n",
       "    </tr>\n",
       "  </tbody>\n",
       "</table>\n",
       "<p>90 rows × 3 columns</p>\n",
       "</div>"
      ],
      "text/plain": [
       "         Date  Count  Average_Probability\n",
       "0  2020-05-01    220             0.889981\n",
       "1  2020-05-02     78             0.919108\n",
       "2  2020-05-03     73             0.867574\n",
       "3  2020-05-04    319             0.882814\n",
       "4  2020-05-05     97             0.850521\n",
       "..        ...    ...                  ...\n",
       "85 2020-07-25    126             0.875199\n",
       "86 2020-07-26     96             0.888817\n",
       "87 2020-07-27    188             0.835089\n",
       "88 2020-07-28    154             0.879739\n",
       "89 2020-07-29    178             0.887323\n",
       "\n",
       "[90 rows x 3 columns]"
      ]
     },
     "execution_count": 270,
     "metadata": {},
     "output_type": "execute_result"
    }
   ],
   "source": [
    "D_C_N"
   ]
  },
  {
   "cell_type": "code",
   "execution_count": 279,
   "metadata": {},
   "outputs": [],
   "source": [
    "D_C_A = D_C_N.sort_values(\"Count\", ascending = False)"
   ]
  },
  {
   "cell_type": "code",
   "execution_count": 280,
   "metadata": {},
   "outputs": [],
   "source": [
    "D_C_A = D_C_A[0 : 61] "
   ]
  },
  {
   "cell_type": "code",
   "execution_count": 281,
   "metadata": {},
   "outputs": [
    {
     "data": {
      "text/html": [
       "<div>\n",
       "<style scoped>\n",
       "    .dataframe tbody tr th:only-of-type {\n",
       "        vertical-align: middle;\n",
       "    }\n",
       "\n",
       "    .dataframe tbody tr th {\n",
       "        vertical-align: top;\n",
       "    }\n",
       "\n",
       "    .dataframe thead th {\n",
       "        text-align: right;\n",
       "    }\n",
       "</style>\n",
       "<table border=\"1\" class=\"dataframe\">\n",
       "  <thead>\n",
       "    <tr style=\"text-align: right;\">\n",
       "      <th></th>\n",
       "      <th>Date</th>\n",
       "      <th>Count</th>\n",
       "      <th>Average_Probability</th>\n",
       "    </tr>\n",
       "  </thead>\n",
       "  <tbody>\n",
       "    <tr>\n",
       "      <th>0</th>\n",
       "      <td>2020-07-15</td>\n",
       "      <td>1343</td>\n",
       "      <td>0.880810</td>\n",
       "    </tr>\n",
       "    <tr>\n",
       "      <th>1</th>\n",
       "      <td>2020-06-19</td>\n",
       "      <td>826</td>\n",
       "      <td>0.856314</td>\n",
       "    </tr>\n",
       "    <tr>\n",
       "      <th>2</th>\n",
       "      <td>2020-06-05</td>\n",
       "      <td>429</td>\n",
       "      <td>0.833995</td>\n",
       "    </tr>\n",
       "    <tr>\n",
       "      <th>3</th>\n",
       "      <td>2020-05-08</td>\n",
       "      <td>422</td>\n",
       "      <td>0.878092</td>\n",
       "    </tr>\n",
       "    <tr>\n",
       "      <th>4</th>\n",
       "      <td>2020-06-22</td>\n",
       "      <td>381</td>\n",
       "      <td>0.892196</td>\n",
       "    </tr>\n",
       "    <tr>\n",
       "      <th>...</th>\n",
       "      <td>...</td>\n",
       "      <td>...</td>\n",
       "      <td>...</td>\n",
       "    </tr>\n",
       "    <tr>\n",
       "      <th>56</th>\n",
       "      <td>2020-06-16</td>\n",
       "      <td>99</td>\n",
       "      <td>0.879951</td>\n",
       "    </tr>\n",
       "    <tr>\n",
       "      <th>57</th>\n",
       "      <td>2020-05-05</td>\n",
       "      <td>97</td>\n",
       "      <td>0.850521</td>\n",
       "    </tr>\n",
       "    <tr>\n",
       "      <th>58</th>\n",
       "      <td>2020-07-26</td>\n",
       "      <td>96</td>\n",
       "      <td>0.888817</td>\n",
       "    </tr>\n",
       "    <tr>\n",
       "      <th>59</th>\n",
       "      <td>2020-07-18</td>\n",
       "      <td>92</td>\n",
       "      <td>0.885087</td>\n",
       "    </tr>\n",
       "    <tr>\n",
       "      <th>60</th>\n",
       "      <td>2020-07-20</td>\n",
       "      <td>91</td>\n",
       "      <td>0.893040</td>\n",
       "    </tr>\n",
       "  </tbody>\n",
       "</table>\n",
       "<p>61 rows × 3 columns</p>\n",
       "</div>"
      ],
      "text/plain": [
       "         Date  Count  Average_Probability\n",
       "0  2020-07-15   1343             0.880810\n",
       "1  2020-06-19    826             0.856314\n",
       "2  2020-06-05    429             0.833995\n",
       "3  2020-05-08    422             0.878092\n",
       "4  2020-06-22    381             0.892196\n",
       "..        ...    ...                  ...\n",
       "56 2020-06-16     99             0.879951\n",
       "57 2020-05-05     97             0.850521\n",
       "58 2020-07-26     96             0.888817\n",
       "59 2020-07-18     92             0.885087\n",
       "60 2020-07-20     91             0.893040\n",
       "\n",
       "[61 rows x 3 columns]"
      ]
     },
     "execution_count": 281,
     "metadata": {},
     "output_type": "execute_result"
    }
   ],
   "source": [
    "D_C_A = D_C_A.reset_index(drop = True)\n",
    "D_C_A"
   ]
  },
  {
   "cell_type": "code",
   "execution_count": 302,
   "metadata": {},
   "outputs": [],
   "source": [
    "D_C_A = D_C_A.sort_values(by = 'Date')"
   ]
  },
  {
   "cell_type": "code",
   "execution_count": 303,
   "metadata": {},
   "outputs": [
    {
     "data": {
      "text/html": [
       "<div>\n",
       "<style scoped>\n",
       "    .dataframe tbody tr th:only-of-type {\n",
       "        vertical-align: middle;\n",
       "    }\n",
       "\n",
       "    .dataframe tbody tr th {\n",
       "        vertical-align: top;\n",
       "    }\n",
       "\n",
       "    .dataframe thead th {\n",
       "        text-align: right;\n",
       "    }\n",
       "</style>\n",
       "<table border=\"1\" class=\"dataframe\">\n",
       "  <thead>\n",
       "    <tr style=\"text-align: right;\">\n",
       "      <th></th>\n",
       "      <th>Date</th>\n",
       "      <th>Count</th>\n",
       "      <th>Average_Probability</th>\n",
       "    </tr>\n",
       "  </thead>\n",
       "  <tbody>\n",
       "    <tr>\n",
       "      <th>0</th>\n",
       "      <td>2020-05-01</td>\n",
       "      <td>220</td>\n",
       "      <td>0.889981</td>\n",
       "    </tr>\n",
       "    <tr>\n",
       "      <th>1</th>\n",
       "      <td>2020-05-04</td>\n",
       "      <td>319</td>\n",
       "      <td>0.882814</td>\n",
       "    </tr>\n",
       "    <tr>\n",
       "      <th>2</th>\n",
       "      <td>2020-05-05</td>\n",
       "      <td>97</td>\n",
       "      <td>0.850521</td>\n",
       "    </tr>\n",
       "    <tr>\n",
       "      <th>3</th>\n",
       "      <td>2020-05-07</td>\n",
       "      <td>147</td>\n",
       "      <td>0.897225</td>\n",
       "    </tr>\n",
       "    <tr>\n",
       "      <th>4</th>\n",
       "      <td>2020-05-08</td>\n",
       "      <td>422</td>\n",
       "      <td>0.878092</td>\n",
       "    </tr>\n",
       "    <tr>\n",
       "      <th>...</th>\n",
       "      <td>...</td>\n",
       "      <td>...</td>\n",
       "      <td>...</td>\n",
       "    </tr>\n",
       "    <tr>\n",
       "      <th>56</th>\n",
       "      <td>2020-07-25</td>\n",
       "      <td>126</td>\n",
       "      <td>0.875199</td>\n",
       "    </tr>\n",
       "    <tr>\n",
       "      <th>57</th>\n",
       "      <td>2020-07-26</td>\n",
       "      <td>96</td>\n",
       "      <td>0.888817</td>\n",
       "    </tr>\n",
       "    <tr>\n",
       "      <th>58</th>\n",
       "      <td>2020-07-27</td>\n",
       "      <td>188</td>\n",
       "      <td>0.835089</td>\n",
       "    </tr>\n",
       "    <tr>\n",
       "      <th>59</th>\n",
       "      <td>2020-07-28</td>\n",
       "      <td>154</td>\n",
       "      <td>0.879739</td>\n",
       "    </tr>\n",
       "    <tr>\n",
       "      <th>60</th>\n",
       "      <td>2020-07-29</td>\n",
       "      <td>178</td>\n",
       "      <td>0.887323</td>\n",
       "    </tr>\n",
       "  </tbody>\n",
       "</table>\n",
       "<p>61 rows × 3 columns</p>\n",
       "</div>"
      ],
      "text/plain": [
       "         Date  Count  Average_Probability\n",
       "0  2020-05-01    220             0.889981\n",
       "1  2020-05-04    319             0.882814\n",
       "2  2020-05-05     97             0.850521\n",
       "3  2020-05-07    147             0.897225\n",
       "4  2020-05-08    422             0.878092\n",
       "..        ...    ...                  ...\n",
       "56 2020-07-25    126             0.875199\n",
       "57 2020-07-26     96             0.888817\n",
       "58 2020-07-27    188             0.835089\n",
       "59 2020-07-28    154             0.879739\n",
       "60 2020-07-29    178             0.887323\n",
       "\n",
       "[61 rows x 3 columns]"
      ]
     },
     "execution_count": 303,
     "metadata": {},
     "output_type": "execute_result"
    }
   ],
   "source": [
    "D_C_A = D_C_A.reset_index(drop = True)\n",
    "D_C_A"
   ]
  },
  {
   "cell_type": "code",
   "execution_count": 304,
   "metadata": {},
   "outputs": [],
   "source": [
    "Close_Price_list = []\n",
    "def Close_Price(D_C_A):\n",
    "    for i in range(0 , 61):\n",
    "        Start_date = str(D_C_A['Date'][i]).split(' ')[0]\n",
    "        End_Date = str(D_C_A['Date'][i] + datetime.timedelta(days = 5)).split(\" \")[0]\n",
    "        C_P = Reliance.history(start = Start_date , end = End_Date, period = '1d')\n",
    "        Close_Price_list.append(C_P['Close'][0])\n",
    "    return Close_Price_list"
   ]
  },
  {
   "cell_type": "code",
   "execution_count": 305,
   "metadata": {},
   "outputs": [],
   "source": [
    "C_P_list = Close_Price(D_C_A)"
   ]
  },
  {
   "cell_type": "code",
   "execution_count": 307,
   "metadata": {},
   "outputs": [],
   "source": [
    "D_C_A[\"Close_Price\"] = C_P_list"
   ]
  },
  {
   "cell_type": "code",
   "execution_count": 309,
   "metadata": {},
   "outputs": [
    {
     "data": {
      "text/html": [
       "<div>\n",
       "<style scoped>\n",
       "    .dataframe tbody tr th:only-of-type {\n",
       "        vertical-align: middle;\n",
       "    }\n",
       "\n",
       "    .dataframe tbody tr th {\n",
       "        vertical-align: top;\n",
       "    }\n",
       "\n",
       "    .dataframe thead th {\n",
       "        text-align: right;\n",
       "    }\n",
       "</style>\n",
       "<table border=\"1\" class=\"dataframe\">\n",
       "  <thead>\n",
       "    <tr style=\"text-align: right;\">\n",
       "      <th></th>\n",
       "      <th>Date</th>\n",
       "      <th>Count</th>\n",
       "      <th>Average_Probability</th>\n",
       "      <th>Close_Price</th>\n",
       "    </tr>\n",
       "  </thead>\n",
       "  <tbody>\n",
       "    <tr>\n",
       "      <th>0</th>\n",
       "      <td>2020-05-01</td>\n",
       "      <td>220</td>\n",
       "      <td>0.889981</td>\n",
       "      <td>1411.863281</td>\n",
       "    </tr>\n",
       "    <tr>\n",
       "      <th>1</th>\n",
       "      <td>2020-05-04</td>\n",
       "      <td>319</td>\n",
       "      <td>0.882814</td>\n",
       "      <td>1411.863281</td>\n",
       "    </tr>\n",
       "    <tr>\n",
       "      <th>2</th>\n",
       "      <td>2020-05-05</td>\n",
       "      <td>97</td>\n",
       "      <td>0.850521</td>\n",
       "      <td>1436.899414</td>\n",
       "    </tr>\n",
       "    <tr>\n",
       "      <th>3</th>\n",
       "      <td>2020-05-07</td>\n",
       "      <td>147</td>\n",
       "      <td>0.897225</td>\n",
       "      <td>1482.446655</td>\n",
       "    </tr>\n",
       "    <tr>\n",
       "      <th>4</th>\n",
       "      <td>2020-05-08</td>\n",
       "      <td>422</td>\n",
       "      <td>0.878092</td>\n",
       "      <td>1536.404785</td>\n",
       "    </tr>\n",
       "  </tbody>\n",
       "</table>\n",
       "</div>"
      ],
      "text/plain": [
       "        Date  Count  Average_Probability  Close_Price\n",
       "0 2020-05-01    220             0.889981  1411.863281\n",
       "1 2020-05-04    319             0.882814  1411.863281\n",
       "2 2020-05-05     97             0.850521  1436.899414\n",
       "3 2020-05-07    147             0.897225  1482.446655\n",
       "4 2020-05-08    422             0.878092  1536.404785"
      ]
     },
     "execution_count": 309,
     "metadata": {},
     "output_type": "execute_result"
    }
   ],
   "source": [
    "D_C_A.head()"
   ]
  },
  {
   "cell_type": "code",
   "execution_count": 311,
   "metadata": {},
   "outputs": [],
   "source": [
    "D_C_A['Sentiment_Score'] = D_C_A['Average_Probability'] * D_C_A['Close_Price']"
   ]
  },
  {
   "cell_type": "code",
   "execution_count": 312,
   "metadata": {},
   "outputs": [
    {
     "data": {
      "text/html": [
       "<div>\n",
       "<style scoped>\n",
       "    .dataframe tbody tr th:only-of-type {\n",
       "        vertical-align: middle;\n",
       "    }\n",
       "\n",
       "    .dataframe tbody tr th {\n",
       "        vertical-align: top;\n",
       "    }\n",
       "\n",
       "    .dataframe thead th {\n",
       "        text-align: right;\n",
       "    }\n",
       "</style>\n",
       "<table border=\"1\" class=\"dataframe\">\n",
       "  <thead>\n",
       "    <tr style=\"text-align: right;\">\n",
       "      <th></th>\n",
       "      <th>Date</th>\n",
       "      <th>Count</th>\n",
       "      <th>Average_Probability</th>\n",
       "      <th>Close_Price</th>\n",
       "      <th>Sentiment_Score</th>\n",
       "    </tr>\n",
       "  </thead>\n",
       "  <tbody>\n",
       "    <tr>\n",
       "      <th>0</th>\n",
       "      <td>2020-05-01</td>\n",
       "      <td>220</td>\n",
       "      <td>0.889981</td>\n",
       "      <td>1411.863281</td>\n",
       "      <td>1256.531322</td>\n",
       "    </tr>\n",
       "    <tr>\n",
       "      <th>1</th>\n",
       "      <td>2020-05-04</td>\n",
       "      <td>319</td>\n",
       "      <td>0.882814</td>\n",
       "      <td>1411.863281</td>\n",
       "      <td>1246.412930</td>\n",
       "    </tr>\n",
       "    <tr>\n",
       "      <th>2</th>\n",
       "      <td>2020-05-05</td>\n",
       "      <td>97</td>\n",
       "      <td>0.850521</td>\n",
       "      <td>1436.899414</td>\n",
       "      <td>1222.112871</td>\n",
       "    </tr>\n",
       "    <tr>\n",
       "      <th>3</th>\n",
       "      <td>2020-05-07</td>\n",
       "      <td>147</td>\n",
       "      <td>0.897225</td>\n",
       "      <td>1482.446655</td>\n",
       "      <td>1330.088928</td>\n",
       "    </tr>\n",
       "    <tr>\n",
       "      <th>4</th>\n",
       "      <td>2020-05-08</td>\n",
       "      <td>422</td>\n",
       "      <td>0.878092</td>\n",
       "      <td>1536.404785</td>\n",
       "      <td>1349.105152</td>\n",
       "    </tr>\n",
       "  </tbody>\n",
       "</table>\n",
       "</div>"
      ],
      "text/plain": [
       "        Date  Count  Average_Probability  Close_Price  Sentiment_Score\n",
       "0 2020-05-01    220             0.889981  1411.863281      1256.531322\n",
       "1 2020-05-04    319             0.882814  1411.863281      1246.412930\n",
       "2 2020-05-05     97             0.850521  1436.899414      1222.112871\n",
       "3 2020-05-07    147             0.897225  1482.446655      1330.088928\n",
       "4 2020-05-08    422             0.878092  1536.404785      1349.105152"
      ]
     },
     "execution_count": 312,
     "metadata": {},
     "output_type": "execute_result"
    }
   ],
   "source": [
    "D_C_A.head()"
   ]
  },
  {
   "cell_type": "code",
   "execution_count": 361,
   "metadata": {},
   "outputs": [
    {
     "data": {
      "text/plain": [
       "(13064, 61, 0.9603000556970742)"
      ]
     },
     "execution_count": 361,
     "metadata": {},
     "output_type": "execute_result"
    }
   ],
   "source": [
    "D_C_A['Count'].sum() , len(D_C_A) , (D_C_A['Close_Price'] - D_C_A['Sentiment_Score']).sum() / D_C_A['Count'].sum()"
   ]
  },
  {
   "cell_type": "code",
   "execution_count": 362,
   "metadata": {},
   "outputs": [
    {
     "data": {
      "text/plain": [
       "0.9603000556970742"
      ]
     },
     "execution_count": 362,
     "metadata": {},
     "output_type": "execute_result"
    }
   ],
   "source": [
    "Quant = (D_C_A['Close_Price'] - D_C_A['Sentiment_Score']).sum() / D_C_A['Count'].sum()\n",
    "Quant"
   ]
  },
  {
   "cell_type": "code",
   "execution_count": 363,
   "metadata": {},
   "outputs": [
    {
     "data": {
      "image/png": "[encoded data removed]",
      "text/plain": [
       "<Figure size 1296x576 with 1 Axes>"
      ]
     },
     "metadata": {},
     "output_type": "display_data"
    }
   ],
   "source": [
    "plt.figure(figsize = (18, 8))\n",
    "plt.plot(D_C_A['Date'] ,D_C_A['Sentiment_Score'] * Quant)\n",
    "plt.plot(D_C_A['Date'] ,D_C_A['Close_Price'])\n",
    "plt.xlabel(\"Date\")\n",
    "plt.ylabel(\"Close_Price\")\n",
    "\n",
    "plt.show()"
   ]
  },
  {
   "cell_type": "code",
   "execution_count": 324,
   "metadata": {},
   "outputs": [],
   "source": [
    "Open_Price_list = []\n",
    "def Open_Price(D_C_A):\n",
    "    for i in range(0 , 61):\n",
    "        Start_date = str(D_C_A['Date'][i]).split(' ')[0]\n",
    "        End_Date = str(D_C_A['Date'][i] + datetime.timedelta(days = 5)).split(\" \")[0]\n",
    "        C_P = Reliance.history(start = Start_date , end = End_Date, period = '1d')\n",
    "        Open_Price_list.append(C_P['Open'][0])\n",
    "    return Open_Price_list\n",
    "\n",
    "O_P_list = Open_Price(D_C_A)\n",
    "D_C_A[\"Open_Price\"] = O_P_list"
   ]
  },
  {
   "cell_type": "code",
   "execution_count": 325,
   "metadata": {},
   "outputs": [
    {
     "data": {
      "text/html": [
       "<div>\n",
       "<style scoped>\n",
       "    .dataframe tbody tr th:only-of-type {\n",
       "        vertical-align: middle;\n",
       "    }\n",
       "\n",
       "    .dataframe tbody tr th {\n",
       "        vertical-align: top;\n",
       "    }\n",
       "\n",
       "    .dataframe thead th {\n",
       "        text-align: right;\n",
       "    }\n",
       "</style>\n",
       "<table border=\"1\" class=\"dataframe\">\n",
       "  <thead>\n",
       "    <tr style=\"text-align: right;\">\n",
       "      <th></th>\n",
       "      <th>Date</th>\n",
       "      <th>Count</th>\n",
       "      <th>Average_Probability</th>\n",
       "      <th>Close_Price</th>\n",
       "      <th>Sentiment_Score</th>\n",
       "      <th>Open_Price</th>\n",
       "    </tr>\n",
       "  </thead>\n",
       "  <tbody>\n",
       "    <tr>\n",
       "      <th>0</th>\n",
       "      <td>2020-05-01</td>\n",
       "      <td>220</td>\n",
       "      <td>0.889981</td>\n",
       "      <td>1411.863281</td>\n",
       "      <td>1256.531322</td>\n",
       "      <td>1416.585187</td>\n",
       "    </tr>\n",
       "    <tr>\n",
       "      <th>1</th>\n",
       "      <td>2020-05-04</td>\n",
       "      <td>319</td>\n",
       "      <td>0.882814</td>\n",
       "      <td>1411.863281</td>\n",
       "      <td>1246.412930</td>\n",
       "      <td>1416.585187</td>\n",
       "    </tr>\n",
       "    <tr>\n",
       "      <th>2</th>\n",
       "      <td>2020-05-05</td>\n",
       "      <td>97</td>\n",
       "      <td>0.850521</td>\n",
       "      <td>1436.899414</td>\n",
       "      <td>1222.112871</td>\n",
       "      <td>1430.062518</td>\n",
       "    </tr>\n",
       "    <tr>\n",
       "      <th>3</th>\n",
       "      <td>2020-05-07</td>\n",
       "      <td>147</td>\n",
       "      <td>0.897225</td>\n",
       "      <td>1482.446655</td>\n",
       "      <td>1330.088928</td>\n",
       "      <td>1431.341286</td>\n",
       "    </tr>\n",
       "    <tr>\n",
       "      <th>4</th>\n",
       "      <td>2020-05-08</td>\n",
       "      <td>422</td>\n",
       "      <td>0.878092</td>\n",
       "      <td>1536.404785</td>\n",
       "      <td>1349.105152</td>\n",
       "      <td>1519.877872</td>\n",
       "    </tr>\n",
       "  </tbody>\n",
       "</table>\n",
       "</div>"
      ],
      "text/plain": [
       "        Date  Count  Average_Probability  Close_Price  Sentiment_Score  \\\n",
       "0 2020-05-01    220             0.889981  1411.863281      1256.531322   \n",
       "1 2020-05-04    319             0.882814  1411.863281      1246.412930   \n",
       "2 2020-05-05     97             0.850521  1436.899414      1222.112871   \n",
       "3 2020-05-07    147             0.897225  1482.446655      1330.088928   \n",
       "4 2020-05-08    422             0.878092  1536.404785      1349.105152   \n",
       "\n",
       "    Open_Price  \n",
       "0  1416.585187  \n",
       "1  1416.585187  \n",
       "2  1430.062518  \n",
       "3  1431.341286  \n",
       "4  1519.877872  "
      ]
     },
     "execution_count": 325,
     "metadata": {},
     "output_type": "execute_result"
    }
   ],
   "source": [
    "D_C_A.head()"
   ]
  },
  {
   "cell_type": "code",
   "execution_count": 366,
   "metadata": {},
   "outputs": [
    {
     "data": {
      "image/png": "[encoded data removed]",
      "text/plain": [
       "<Figure size 1296x576 with 1 Axes>"
      ]
     },
     "metadata": {},
     "output_type": "display_data"
    }
   ],
   "source": [
    "plt.figure(figsize = (18, 8))\n",
    "plt.plot(D_C_A['Date'] ,D_C_A['Sentiment_Score'] * Quant)\n",
    "plt.plot(D_C_A['Date'] ,D_C_A['Open_Price'])\n",
    "plt.xlabel(\"Date\")\n",
    "plt.ylabel(\"Open Price\")\n",
    "\n",
    "plt.show()"
   ]
  }
 ],
 "metadata": {
  "kernelspec": {
   "display_name": "Python 3.9.7 ('base')",
   "language": "python",
   "name": "python3"
  },
  "language_info": {
   "codemirror_mode": {
    "name": "ipython",
    "version": 3
   },
   "file_extension": ".py",
   "mimetype": "text/x-python",
   "name": "python",
   "nbconvert_exporter": "python",
   "pygments_lexer": "ipython3",
   "version": "3.9.7"
  },
  "orig_nbformat": 4,
  "vscode": {
   "interpreter": {
    "hash": "7679c2132d3f6ce38c9df14d554b39c06862b36a4e6689c81f9ae15bd0911d7d"
   }
  }
 },
 "nbformat": 4,
 "nbformat_minor": 2
}
