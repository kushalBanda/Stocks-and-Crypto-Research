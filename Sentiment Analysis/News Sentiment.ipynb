{
 "cells": [
  {
   "cell_type": "markdown",
   "metadata": {},
   "source": [
    "### 1. Install and import Baseline Dependencies"
   ]
  },
  {
   "cell_type": "code",
   "execution_count": 1,
   "metadata": {},
   "outputs": [],
   "source": [
    "from transformers import PegasusTokenizer, PegasusForConditionalGeneration\n",
    "from bs4 import BeautifulSoup\n",
    "import requests"
   ]
  },
  {
   "cell_type": "markdown",
   "metadata": {},
   "source": [
    "### 2. Setup Summarization Model"
   ]
  },
  {
   "cell_type": "code",
   "execution_count": 2,
   "metadata": {},
   "outputs": [],
   "source": [
    "model_name = \"human-centered-summarization/financial-summarization-pegasus\"\n",
    "tokenizer = PegasusTokenizer.from_pretrained(model_name)\n",
    "model = PegasusForConditionalGeneration.from_pretrained(model_name)"
   ]
  },
  {
   "cell_type": "markdown",
   "metadata": {},
   "source": [
    "### 3. Summarize a Single Article"
   ]
  },
  {
   "cell_type": "code",
   "execution_count": 3,
   "metadata": {},
   "outputs": [],
   "source": [
    "url = \"https://finance.yahoo.com/news/apple-kicks-off-four-part-120513895.html\"\n",
    "r = requests.get(url)\n",
    "soup = BeautifulSoup(r.text, 'html.parser')\n",
    "paragraphs = soup.find_all('p')"
   ]
  },
  {
   "cell_type": "code",
   "execution_count": 4,
   "metadata": {},
   "outputs": [
    {
     "data": {
      "text/plain": [
       "<p>(Bloomberg) -- Apple Inc. tapped the US high-grade bond market Monday with a $5.5 billion sale in four parts.</p>"
      ]
     },
     "execution_count": 4,
     "metadata": {},
     "output_type": "execute_result"
    }
   ],
   "source": [
    "paragraphs[0]"
   ]
  },
  {
   "cell_type": "code",
   "execution_count": 5,
   "metadata": {},
   "outputs": [
    {
     "data": {
      "text/plain": [
       "'(Bloomberg) -- Apple Inc. tapped the US high-grade bond market Monday with a $5.5 billion sale in four parts.'"
      ]
     },
     "execution_count": 5,
     "metadata": {},
     "output_type": "execute_result"
    }
   ],
   "source": [
    "paragraphs[0].text"
   ]
  },
  {
   "cell_type": "code",
   "execution_count": 6,
   "metadata": {},
   "outputs": [],
   "source": [
    "text = [paragraph.text for paragraph in paragraphs]\n",
    "words = ' '.join(text).split(' ')[:400] # We are grabbing the first 400 words\n",
    "ARTICLE = ' '.join(words)"
   ]
  },
  {
   "cell_type": "code",
   "execution_count": 7,
   "metadata": {},
   "outputs": [
    {
     "data": {
      "text/plain": [
       "'(Bloomberg) -- Apple Inc. tapped the US high-grade bond market Monday with a $5.5 billion sale in four parts. Most Read from Bloomberg You Won’t Like What Comes After Inflation Pelosi Is Expected to Visit Taiwan, Ramping Up US-China Tensions Manchin Spending Deal Includes Billions in Oil Import Taxes Biden Team Tries to Blunt China Rage as Pelosi Heads for Taiwan The longest portion of the offering, a 40-year security, yields 118 basis points over US Treasuries, down from initial price discussions in the 150 basis points range, according to people familiar with the deal. The order book for the sale peaked at more than $23 billion, a person with knowledge of the demand said. Proceeds from the bond sale are earmarked for general corporate purposes, including the financing of share buybacks and dividends, said the people, who asked not to be identified as the details are private. Read more: IG ANALYSIS: Apple, UBS Headline Calendar; Edison Struggles The sale comes after the primary market for US investment-grade bonds sprang back to life in the second half of July amid a credit market rally. Many of the big banks brought large debt sales after reporting earnings, helping supply beat expectations for the month. The momentum is expected to continue into this week with Wall Street syndicate desks expecting around $30 billion of new high-grade bond supply. Apple, one of eight companies that sold new high-grade bonds Monday, appears to be taking advantage of the recent stability and relatively cheaper cost of funding in the corporate market. The yield on Bloomberg’s benchmark investment-grade index hit a nearly two-month low on Friday. The iPhone maker’s cash and cash equivalents stockpile sits at nearly $180 billion, while it has paid out around $14 billion dividends each of the last three years. “Apple consistently borrowing tens of billions of dollars annually is due more to its confidence in expanding cash flow than operational needs,” Bloomberg Intelligence analyst Robert Schiffman wrote Monday. Goldman Sachs Group Inc., JPMorgan Chase & Co. and Bank of America Corp. managed the sale. In December, Apple’s long-term credit was upgraded to Aaa by Moody’s Investors Service, putting it in an exclusive club with Microsoft Corp. and Johnson & Johnson as the only US corporations in the S&P 500 with the highest possible credit rating. (Updates to reflect throughout that the bonds sold) Most Read from Bloomberg Businessweek One of TikTok’s'"
      ]
     },
     "execution_count": 7,
     "metadata": {},
     "output_type": "execute_result"
    }
   ],
   "source": [
    "ARTICLE"
   ]
  },
  {
   "cell_type": "code",
   "execution_count": 8,
   "metadata": {},
   "outputs": [],
   "source": [
    "input_ids = tokenizer.encode(ARTICLE , return_tensors = 'pt') # pt - pytorch tensors\n",
    "output = model.generate(input_ids , max_length = 55, num_beams = 5, early_stopping = True) # Number of beams for beam search\n",
    "# The beam search algorithm selects multiple alternatives for an input sequence at each time-step based on conditional probability.\n",
    "summmary = tokenizer.decode(output[0] , skip_special_tokens = True)"
   ]
  },
  {
   "cell_type": "code",
   "execution_count": 9,
   "metadata": {},
   "outputs": [
    {
     "data": {
      "text/plain": [
       "'The iPhone maker sold $4 billion of 10-year notes, $1 billion of 30-year bonds.'"
      ]
     },
     "execution_count": 9,
     "metadata": {},
     "output_type": "execute_result"
    }
   ],
   "source": [
    "summmary"
   ]
  },
  {
   "cell_type": "markdown",
   "metadata": {},
   "source": [
    "### 4. Building a News and Sentiment Pipeline"
   ]
  },
  {
   "cell_type": "code",
   "execution_count": 10,
   "metadata": {},
   "outputs": [],
   "source": [
    "monitored_tickers = ['GME', 'TSLA', 'BTC']"
   ]
  },
  {
   "cell_type": "markdown",
   "metadata": {},
   "source": [
    "### 4.1 Search for Stock News using Google and Yahoo Finance"
   ]
  },
  {
   "cell_type": "code",
   "execution_count": 11,
   "metadata": {},
   "outputs": [],
   "source": [
    "def search_for_stocks_news_url(ticker):\n",
    "    search_url = \"https://www.google.com/search?q=yahoo+finance+{}&tbm=nws\".format(ticker)\n",
    "    r = requests.get(search_url)\n",
    "    soup = BeautifulSoup(r.text , \"html.parser\")\n",
    "    atags = soup.find_all('a')\n",
    "    # a tags represent a link\n",
    "    hrefs = [link['href'] for link in atags]\n",
    "    return hrefs"
   ]
  },
  {
   "cell_type": "code",
   "execution_count": 12,
   "metadata": {},
   "outputs": [
    {
     "data": {
      "text/plain": [
       "{'GME': ['/?sa=X&ved=0ahUKEwiRlsmQ4Kn5AhWMilwKHY5BCWsQOwgC',\n",
       "  '/search?q=yahoo+finance+GME&tbm=nws&ie=UTF-8&gbv=1&sei=aO7pYpHCH4yV8gKOg6XYBg',\n",
       "  '/search?q=yahoo+finance+GME&ie=UTF-8&source=lnms&sa=X&ved=0ahUKEwiRlsmQ4Kn5AhWMilwKHY5BCWsQ_AUIBSgA',\n",
       "  '/search?q=yahoo+finance+GME&ie=UTF-8&tbm=bks&source=lnms&sa=X&ved=0ahUKEwiRlsmQ4Kn5AhWMilwKHY5BCWsQ_AUIBygC',\n",
       "  '/search?q=yahoo+finance+GME&ie=UTF-8&tbm=shop&source=lnms&sa=X&ved=0ahUKEwiRlsmQ4Kn5AhWMilwKHY5BCWsQ_AUICCgD',\n",
       "  '/search?q=yahoo+finance+GME&ie=UTF-8&tbm=isch&source=lnms&sa=X&ved=0ahUKEwiRlsmQ4Kn5AhWMilwKHY5BCWsQ_AUICSgE',\n",
       "  'https://maps.google.com/maps?q=yahoo+finance+GME&um=1&ie=UTF-8&sa=X&ved=0ahUKEwiRlsmQ4Kn5AhWMilwKHY5BCWsQ_AUICigF',\n",
       "  '/search?q=yahoo+finance+GME&ie=UTF-8&tbm=vid&source=lnms&sa=X&ved=0ahUKEwiRlsmQ4Kn5AhWMilwKHY5BCWsQ_AUICygG',\n",
       "  '/advanced_search',\n",
       "  '/search?q=yahoo+finance+GME&ie=UTF-8&tbm=nws&source=lnt&tbs=qdr:h&sa=X&ved=0ahUKEwiRlsmQ4Kn5AhWMilwKHY5BCWsQpwUIDQ',\n",
       "  '/search?q=yahoo+finance+GME&ie=UTF-8&tbm=nws&source=lnt&tbs=qdr:d&sa=X&ved=0ahUKEwiRlsmQ4Kn5AhWMilwKHY5BCWsQpwUIDg',\n",
       "  '/search?q=yahoo+finance+GME&ie=UTF-8&tbm=nws&source=lnt&tbs=qdr:w&sa=X&ved=0ahUKEwiRlsmQ4Kn5AhWMilwKHY5BCWsQpwUIDw',\n",
       "  '/search?q=yahoo+finance+GME&ie=UTF-8&tbm=nws&source=lnt&tbs=qdr:m&sa=X&ved=0ahUKEwiRlsmQ4Kn5AhWMilwKHY5BCWsQpwUIEA',\n",
       "  '/search?q=yahoo+finance+GME&ie=UTF-8&tbm=nws&source=lnt&tbs=qdr:y&sa=X&ved=0ahUKEwiRlsmQ4Kn5AhWMilwKHY5BCWsQpwUIEQ',\n",
       "  '/search?q=yahoo+finance+GME&ie=UTF-8&tbm=nws&source=lnt&tbs=ar:1&sa=X&ved=0ahUKEwiRlsmQ4Kn5AhWMilwKHY5BCWsQpwUIEg',\n",
       "  '/search?q=yahoo+finance+GME&ie=UTF-8&tbm=nws&source=lnt&tbs=sbd:1&sa=X&ved=0ahUKEwiRlsmQ4Kn5AhWMilwKHY5BCWsQpwUIFA',\n",
       "  '/url?q=https://finance.yahoo.com/news/10-stocks-making-headlines-tuesday-213626352.html&sa=U&ved=2ahUKEwiRlsmQ4Kn5AhWMilwKHY5BCWsQxfQBegQIAxAC&usg=AOvVaw3i2-as8IIN2PhHtUXeX2Am',\n",
       "  '/url?q=https://finance.yahoo.com/news/gamestop-launches-nft-marketplace-202000168.html&sa=U&ved=2ahUKEwiRlsmQ4Kn5AhWMilwKHY5BCWsQxfQBegQICBAC&usg=AOvVaw1km2EG-OsfPrKXBJjqmh5f',\n",
       "  '/url?q=https://finance.yahoo.com/news/twitter-gamestop-upstart-fall-premarket-075217111.html&sa=U&ved=2ahUKEwiRlsmQ4Kn5AhWMilwKHY5BCWsQxfQBegQIBxAC&usg=AOvVaw3sTbxVYWl1SWHNW99ugPWj',\n",
       "  '/url?q=https://finance.yahoo.com/news/dow-futures-down-20-pts-065453693.html&sa=U&ved=2ahUKEwiRlsmQ4Kn5AhWMilwKHY5BCWsQxfQBegQICRAC&usg=AOvVaw3rZPK8QDId8LfdK9CAzBoh',\n",
       "  '/url?q=https://finance.yahoo.com/news/stock-market-news-live-updates-july-8-2022-114209262.html&sa=U&ved=2ahUKEwiRlsmQ4Kn5AhWMilwKHY5BCWsQxfQBegQIARAC&usg=AOvVaw3hULIgl0FtikUY3cVBTvjx',\n",
       "  '/url?q=https://finance.yahoo.com/news/gamestop-seagen-bed-bath-beyond-080608920.html&sa=U&ved=2ahUKEwiRlsmQ4Kn5AhWMilwKHY5BCWsQxfQBegQIAhAC&usg=AOvVaw18qLEP-QIk_07ln6UbTy4L',\n",
       "  '/url?q=https://finance.yahoo.com/news/midday-movers-upstart-spirit-gamestop-134648988.html&sa=U&ved=2ahUKEwiRlsmQ4Kn5AhWMilwKHY5BCWsQxfQBegQIBhAC&usg=AOvVaw08Ez-r75YCGTX5N8sUwtjq',\n",
       "  '/url?q=https://finance.yahoo.com/news/dow-futures-little-changed-p-190803222.html&sa=U&ved=2ahUKEwiRlsmQ4Kn5AhWMilwKHY5BCWsQxfQBegQIBBAC&usg=AOvVaw0aeLm64ilysAiOc5MP61Uk',\n",
       "  '/url?q=https://finance.yahoo.com/news/p-500-climbs-energy-rebound-155302286.html&sa=U&ved=2ahUKEwiRlsmQ4Kn5AhWMilwKHY5BCWsQxfQBegQIBRAC&usg=AOvVaw0SxNAhnySklQ-mbZLOz92X',\n",
       "  '/url?q=https://finance.yahoo.com/news/stock-market-today-p-surges-201337916.html&sa=U&ved=2ahUKEwiRlsmQ4Kn5AhWMilwKHY5BCWsQxfQBegQIABAC&usg=AOvVaw0OXA6SwHDMCgDJyae5s7EO',\n",
       "  '/search?q=yahoo+finance+GME&ie=UTF-8&tbm=nws&ei=aO7pYpHCH4yV8gKOg6XYBg&start=10&sa=N',\n",
       "  '/url?q=https://support.google.com/websearch%3Fp%3Dws_settings_location%26hl%3Den-IN&sa=U&ved=0ahUKEwiRlsmQ4Kn5AhWMilwKHY5BCWsQty4IUg&usg=AOvVaw0rn7RvLhc66sCKLRoU7ZVw',\n",
       "  '/url?q=https://accounts.google.com/ServiceLogin%3Fcontinue%3Dhttps://www.google.com/search%253Fq%253Dyahoo%252Bfinance%252BGME%2526tbm%253Dnws%26hl%3Den&sa=U&ved=0ahUKEwiRlsmQ4Kn5AhWMilwKHY5BCWsQxs8CCFM&usg=AOvVaw3GhixDEoVogARliN0l9jP2',\n",
       "  'https://www.google.com/preferences?hl=en-IN&fg=1&sa=X&ved=0ahUKEwiRlsmQ4Kn5AhWMilwKHY5BCWsQ5fUCCFQ',\n",
       "  'https://policies.google.com/privacy?hl=en-IN&fg=1',\n",
       "  'https://policies.google.com/terms?hl=en-IN&fg=1'],\n",
       " 'TSLA': ['/?sa=X&ved=0ahUKEwiM_vCR4Kn5AhVKQMAKHfdtA2wQOwgC',\n",
       "  '/search?q=yahoo+finance+TSLA&tbm=nws&ie=UTF-8&gbv=1&sei=a-7pYsycEMqAgQb3243gBg',\n",
       "  '/search?q=yahoo+finance+TSLA&ie=UTF-8&source=lnms&sa=X&ved=0ahUKEwiM_vCR4Kn5AhVKQMAKHfdtA2wQ_AUIBSgA',\n",
       "  '/search?q=yahoo+finance+TSLA&ie=UTF-8&tbm=bks&source=lnms&sa=X&ved=0ahUKEwiM_vCR4Kn5AhVKQMAKHfdtA2wQ_AUIBygC',\n",
       "  '/search?q=yahoo+finance+TSLA&ie=UTF-8&tbm=shop&source=lnms&sa=X&ved=0ahUKEwiM_vCR4Kn5AhVKQMAKHfdtA2wQ_AUICCgD',\n",
       "  '/search?q=yahoo+finance+TSLA&ie=UTF-8&tbm=isch&source=lnms&sa=X&ved=0ahUKEwiM_vCR4Kn5AhVKQMAKHfdtA2wQ_AUICSgE',\n",
       "  'https://maps.google.com/maps?q=yahoo+finance+TSLA&um=1&ie=UTF-8&sa=X&ved=0ahUKEwiM_vCR4Kn5AhVKQMAKHfdtA2wQ_AUICigF',\n",
       "  '/search?q=yahoo+finance+TSLA&ie=UTF-8&tbm=vid&source=lnms&sa=X&ved=0ahUKEwiM_vCR4Kn5AhVKQMAKHfdtA2wQ_AUICygG',\n",
       "  '/advanced_search',\n",
       "  '/search?q=yahoo+finance+TSLA&ie=UTF-8&tbm=nws&source=lnt&tbs=qdr:h&sa=X&ved=0ahUKEwiM_vCR4Kn5AhVKQMAKHfdtA2wQpwUIDQ',\n",
       "  '/search?q=yahoo+finance+TSLA&ie=UTF-8&tbm=nws&source=lnt&tbs=qdr:d&sa=X&ved=0ahUKEwiM_vCR4Kn5AhVKQMAKHfdtA2wQpwUIDg',\n",
       "  '/search?q=yahoo+finance+TSLA&ie=UTF-8&tbm=nws&source=lnt&tbs=qdr:w&sa=X&ved=0ahUKEwiM_vCR4Kn5AhVKQMAKHfdtA2wQpwUIDw',\n",
       "  '/search?q=yahoo+finance+TSLA&ie=UTF-8&tbm=nws&source=lnt&tbs=qdr:m&sa=X&ved=0ahUKEwiM_vCR4Kn5AhVKQMAKHfdtA2wQpwUIEA',\n",
       "  '/search?q=yahoo+finance+TSLA&ie=UTF-8&tbm=nws&source=lnt&tbs=qdr:y&sa=X&ved=0ahUKEwiM_vCR4Kn5AhVKQMAKHfdtA2wQpwUIEQ',\n",
       "  '/search?q=yahoo+finance+TSLA&ie=UTF-8&tbm=nws&source=lnt&tbs=ar:1&sa=X&ved=0ahUKEwiM_vCR4Kn5AhVKQMAKHfdtA2wQpwUIEg',\n",
       "  '/search?q=yahoo+finance+TSLA&ie=UTF-8&tbm=nws&source=lnt&tbs=sbd:1&sa=X&ved=0ahUKEwiM_vCR4Kn5AhVKQMAKHfdtA2wQpwUIFA',\n",
       "  '/url?q=https://finance.yahoo.com/news/bought-tesla-whim-love-still-142345881.html&sa=U&ved=2ahUKEwiM_vCR4Kn5AhVKQMAKHfdtA2wQxfQBegQIBhAC&usg=AOvVaw2quFBtwyZC83rOGtTwtOvN',\n",
       "  '/url?q=https://finance.yahoo.com/news/chinese-battery-material-stocks-surge-030447808.html&sa=U&ved=2ahUKEwiM_vCR4Kn5AhVKQMAKHfdtA2wQxfQBegQICRAC&usg=AOvVaw3pK1XD8uempQDEsghBtsts',\n",
       "  '/url?q=https://finance.yahoo.com/news/cowen-analyst-tesla-production-goal-192153537.html&sa=U&ved=2ahUKEwiM_vCR4Kn5AhVKQMAKHfdtA2wQxfQBegQIBxAC&usg=AOvVaw3oJH0bBRIwc0bEmVz-NYb4',\n",
       "  '/url?q=https://finance.yahoo.com/news/elephant-in-the-room-for-tesla-dan-ives-114140089.html&sa=U&ved=2ahUKEwiM_vCR4Kn5AhVKQMAKHfdtA2wQxfQBegQICBAC&usg=AOvVaw2Chs7WpmUsFSKZaUvBfAgh',\n",
       "  '/url?q=https://finance.yahoo.com/news/tesla-q-2-earnings-preview-why-2022-production-target-is-key-182251246.html&sa=U&ved=2ahUKEwiM_vCR4Kn5AhVKQMAKHfdtA2wQxfQBegQIAxAC&usg=AOvVaw2Eu1YpPRN5dbi6GWS0Xc0K',\n",
       "  '/url?q=https://finance.yahoo.com/news/hedged-tesla-fund-promises-buffer-144500391.html&sa=U&ved=2ahUKEwiM_vCR4Kn5AhVKQMAKHfdtA2wQxfQBegQIARAC&usg=AOvVaw0cbrJn0UZLI6bHSyJcU4bY',\n",
       "  '/url?q=https://finance.yahoo.com/news/innovator-list-first-hedged-single-145500095.html&sa=U&ved=2ahUKEwiM_vCR4Kn5AhVKQMAKHfdtA2wQxfQBegQIBRAC&usg=AOvVaw2IeFDuOSjiXdyy6dMNa7yn',\n",
       "  '/url?q=https://finance.yahoo.com/news/how-tesla-gm-could-benefit-from-deal-to-expand-ev-tax-credits-190328684.html&sa=U&ved=2ahUKEwiM_vCR4Kn5AhVKQMAKHfdtA2wQxfQBegQIAhAC&usg=AOvVaw1FmrSZQJV_IbR2x99mX3nx',\n",
       "  '/url?q=https://finance.yahoo.com/news/stephen-king-testifies-musk-strikes-back-boeing-787-gets-ok-3-legal-stories-to-watch-205355667.html&sa=U&ved=2ahUKEwiM_vCR4Kn5AhVKQMAKHfdtA2wQxfQBegQIABAC&usg=AOvVaw1YuX-q6FXvhHzQNqruQ_6b',\n",
       "  '/url?q=https://finance.yahoo.com/news/tesla-amazon-and-apple-led-short-bets-in-june-but-short-interest-is-declining-174719049.html&sa=U&ved=2ahUKEwiM_vCR4Kn5AhVKQMAKHfdtA2wQxfQBegQIBBAC&usg=AOvVaw12qdTWSj57uT4jctWo_2h2',\n",
       "  '/search?q=yahoo+finance+TSLA&ie=UTF-8&tbm=nws&ei=a-7pYsycEMqAgQb3243gBg&start=10&sa=N',\n",
       "  '/url?q=https://support.google.com/websearch%3Fp%3Dws_settings_location%26hl%3Den-IN&sa=U&ved=0ahUKEwiM_vCR4Kn5AhVKQMAKHfdtA2wQty4IUw&usg=AOvVaw0tNw5Y8j0ciJJqXj6AMpHj',\n",
       "  '/url?q=https://accounts.google.com/ServiceLogin%3Fcontinue%3Dhttps://www.google.com/search%253Fq%253Dyahoo%252Bfinance%252BTSLA%2526tbm%253Dnws%26hl%3Den&sa=U&ved=0ahUKEwiM_vCR4Kn5AhVKQMAKHfdtA2wQxs8CCFQ&usg=AOvVaw0l08g9zFy-FH0x1JfFL3Pa',\n",
       "  'https://www.google.com/preferences?hl=en-IN&fg=1&sa=X&ved=0ahUKEwiM_vCR4Kn5AhVKQMAKHfdtA2wQ5fUCCFU',\n",
       "  'https://policies.google.com/privacy?hl=en-IN&fg=1',\n",
       "  'https://policies.google.com/terms?hl=en-IN&fg=1'],\n",
       " 'BTC': ['/?sa=X&ved=0ahUKEwjr2dWS4Kn5AhWKQ_EDHR9GAFYQOwgC',\n",
       "  '/search?q=yahoo+finance+BTC&tbm=nws&ie=UTF-8&gbv=1&sei=bO7pYuvzN4qHxc8Pn4yBsAU',\n",
       "  '/search?q=yahoo+finance+BTC&ie=UTF-8&source=lnms&sa=X&ved=0ahUKEwjr2dWS4Kn5AhWKQ_EDHR9GAFYQ_AUIBSgA',\n",
       "  '/search?q=yahoo+finance+BTC&ie=UTF-8&tbm=shop&source=lnms&sa=X&ved=0ahUKEwjr2dWS4Kn5AhWKQ_EDHR9GAFYQ_AUIBygC',\n",
       "  '/search?q=yahoo+finance+BTC&ie=UTF-8&tbm=isch&source=lnms&sa=X&ved=0ahUKEwjr2dWS4Kn5AhWKQ_EDHR9GAFYQ_AUICCgD',\n",
       "  'https://maps.google.com/maps?q=yahoo+finance+BTC&um=1&ie=UTF-8&sa=X&ved=0ahUKEwjr2dWS4Kn5AhWKQ_EDHR9GAFYQ_AUICSgE',\n",
       "  '/search?q=yahoo+finance+BTC&ie=UTF-8&tbm=vid&source=lnms&sa=X&ved=0ahUKEwjr2dWS4Kn5AhWKQ_EDHR9GAFYQ_AUICigF',\n",
       "  '/search?q=yahoo+finance+BTC&ie=UTF-8&tbm=bks&source=lnms&sa=X&ved=0ahUKEwjr2dWS4Kn5AhWKQ_EDHR9GAFYQ_AUICygG',\n",
       "  '/advanced_search',\n",
       "  '/search?q=yahoo+finance+BTC&ie=UTF-8&tbm=nws&source=lnt&tbs=qdr:h&sa=X&ved=0ahUKEwjr2dWS4Kn5AhWKQ_EDHR9GAFYQpwUIDQ',\n",
       "  '/search?q=yahoo+finance+BTC&ie=UTF-8&tbm=nws&source=lnt&tbs=qdr:d&sa=X&ved=0ahUKEwjr2dWS4Kn5AhWKQ_EDHR9GAFYQpwUIDg',\n",
       "  '/search?q=yahoo+finance+BTC&ie=UTF-8&tbm=nws&source=lnt&tbs=qdr:w&sa=X&ved=0ahUKEwjr2dWS4Kn5AhWKQ_EDHR9GAFYQpwUIDw',\n",
       "  '/search?q=yahoo+finance+BTC&ie=UTF-8&tbm=nws&source=lnt&tbs=qdr:m&sa=X&ved=0ahUKEwjr2dWS4Kn5AhWKQ_EDHR9GAFYQpwUIEA',\n",
       "  '/search?q=yahoo+finance+BTC&ie=UTF-8&tbm=nws&source=lnt&tbs=qdr:y&sa=X&ved=0ahUKEwjr2dWS4Kn5AhWKQ_EDHR9GAFYQpwUIEQ',\n",
       "  '/search?q=yahoo+finance+BTC&ie=UTF-8&tbm=nws&source=lnt&tbs=ar:1&sa=X&ved=0ahUKEwjr2dWS4Kn5AhWKQ_EDHR9GAFYQpwUIEg',\n",
       "  '/search?q=yahoo+finance+BTC&ie=UTF-8&tbm=nws&source=lnt&tbs=sbd:1&sa=X&ved=0ahUKEwjr2dWS4Kn5AhWKQ_EDHR9GAFYQpwUIFA',\n",
       "  '/url?q=https://finance.yahoo.com/news/michael-saylor-microstrategy-ceo-bitcoin-204325431.html&sa=U&ved=2ahUKEwjr2dWS4Kn5AhWKQ_EDHR9GAFYQxfQBegQIBRAC&usg=AOvVaw10wj8lJULO5o2zhfu1sQIl',\n",
       "  '/url?q=https://finance.yahoo.com/news/bitcoin-price-sam-bankman-fried-164605474.html&sa=U&ved=2ahUKEwjr2dWS4Kn5AhWKQ_EDHR9GAFYQxfQBegQIBxAC&usg=AOvVaw01r-nQ2ZhLa7gYL13Y14nf',\n",
       "  '/url?q=https://uk.finance.yahoo.com/news/ethereum-bitcoin-crypto-price-flippening-ether-options-market-112129981.html&sa=U&ved=2ahUKEwjr2dWS4Kn5AhWKQ_EDHR9GAFYQxfQBegQICBAC&usg=AOvVaw33kvs0t-g_1_tQF18NPEAs',\n",
       "  '/url?q=https://finance.yahoo.com/news/ethereum-bitcoin-crypto-price-flippening-ether-options-market-112129981.html&sa=U&ved=2ahUKEwjr2dWS4Kn5AhWKQ_EDHR9GAFYQxfQBegQICRAC&usg=AOvVaw2plvLATdh7c4MDXFtPxuqT',\n",
       "  '/url?q=https://finance.yahoo.com/news/bitcoin-leading-rally-morning-brief-100057101.html&sa=U&ved=2ahUKEwjr2dWS4Kn5AhWKQ_EDHR9GAFYQxfQBegQIBBAC&usg=AOvVaw36IKHGuywmwD-OltQecFQ_',\n",
       "  '/url?q=https://finance.yahoo.com/news/welshman-accidentally-threw-8-000-155128060.html&sa=U&ved=2ahUKEwjr2dWS4Kn5AhWKQ_EDHR9GAFYQxfQBegQIAxAC&usg=AOvVaw2gZVwagEUQOGWFc5NbUv01',\n",
       "  '/url?q=https://finance.yahoo.com/news/digihost-announces-infrastructure-buildout-55-113000743.html&sa=U&ved=2ahUKEwjr2dWS4Kn5AhWKQ_EDHR9GAFYQxfQBegQIARAC&usg=AOvVaw1GENl7h5NU_uf_dS2QsItg',\n",
       "  '/url?q=https://finance.yahoo.com/news/man-lost-176-million-worth-112619540.html&sa=U&ved=2ahUKEwjr2dWS4Kn5AhWKQ_EDHR9GAFYQxfQBegQIABAC&usg=AOvVaw3zJijykRvwqtQbb2LpBxE_',\n",
       "  '/url?q=https://finance.yahoo.com/news/bitcoin-slips-best-month-2022-023142837.html&sa=U&ved=2ahUKEwjr2dWS4Kn5AhWKQ_EDHR9GAFYQxfQBegQIBhAC&usg=AOvVaw0nWYjIkJTq6Kssi95W60d_',\n",
       "  '/url?q=https://ca.finance.yahoo.com/news/cryptoverse-bitcoin-beats-heat-jumpin-051232481.html&sa=U&ved=2ahUKEwjr2dWS4Kn5AhWKQ_EDHR9GAFYQxfQBegQIAhAC&usg=AOvVaw3krWAIgtvSDxAEJD613Ngq',\n",
       "  '/search?q=yahoo+finance+BTC&ie=UTF-8&tbm=nws&ei=bO7pYuvzN4qHxc8Pn4yBsAU&start=10&sa=N',\n",
       "  '/url?q=https://support.google.com/websearch%3Fp%3Dws_settings_location%26hl%3Den-IN&sa=U&ved=0ahUKEwjr2dWS4Kn5AhWKQ_EDHR9GAFYQty4IUw&usg=AOvVaw1pvEDVkKm6LzPO2JCDgK0w',\n",
       "  '/url?q=https://accounts.google.com/ServiceLogin%3Fcontinue%3Dhttps://www.google.com/search%253Fq%253Dyahoo%252Bfinance%252BBTC%2526tbm%253Dnws%26hl%3Den&sa=U&ved=0ahUKEwjr2dWS4Kn5AhWKQ_EDHR9GAFYQxs8CCFQ&usg=AOvVaw0NTCuQyOo05_px7qIo6RQu',\n",
       "  'https://www.google.com/preferences?hl=en-IN&fg=1&sa=X&ved=0ahUKEwjr2dWS4Kn5AhWKQ_EDHR9GAFYQ5fUCCFU',\n",
       "  'https://policies.google.com/privacy?hl=en-IN&fg=1',\n",
       "  'https://policies.google.com/terms?hl=en-IN&fg=1']}"
      ]
     },
     "execution_count": 12,
     "metadata": {},
     "output_type": "execute_result"
    }
   ],
   "source": [
    "raw_urls = {ticker: search_for_stocks_news_url(ticker) for ticker in monitored_tickers}\n",
    "raw_urls"
   ]
  },
  {
   "cell_type": "markdown",
   "metadata": {},
   "source": [
    "### 4.2 Strip out unwanted URLs"
   ]
  },
  {
   "cell_type": "code",
   "execution_count": 13,
   "metadata": {},
   "outputs": [],
   "source": [
    "import re"
   ]
  },
  {
   "cell_type": "code",
   "execution_count": 14,
   "metadata": {},
   "outputs": [],
   "source": [
    "exclude_list = ['maps' , 'polices', 'preferences', 'accounts', 'support']"
   ]
  },
  {
   "cell_type": "code",
   "execution_count": 15,
   "metadata": {},
   "outputs": [],
   "source": [
    "def strip_unwanted_urls(urls, exclude_list):\n",
    "    val = []\n",
    "    for url in urls: \n",
    "        if 'https://' in url and not any(exclude_word in url for exclude_word in exclude_list):\n",
    "            res = re.findall(r'(https?://\\S+)', url)[0].split('&')[0]\n",
    "            val.append(res)\n",
    "    return list(set(val))"
   ]
  },
  {
   "cell_type": "code",
   "execution_count": 16,
   "metadata": {},
   "outputs": [
    {
     "data": {
      "text/plain": [
       "{'GME': ['https://policies.google.com/terms?hl=en-IN',\n",
       "  'https://finance.yahoo.com/news/dow-futures-little-changed-p-190803222.html',\n",
       "  'https://finance.yahoo.com/news/gamestop-seagen-bed-bath-beyond-080608920.html',\n",
       "  'https://finance.yahoo.com/news/stock-market-news-live-updates-july-8-2022-114209262.html',\n",
       "  'https://policies.google.com/privacy?hl=en-IN',\n",
       "  'https://finance.yahoo.com/news/gamestop-launches-nft-marketplace-202000168.html',\n",
       "  'https://finance.yahoo.com/news/dow-futures-down-20-pts-065453693.html',\n",
       "  'https://finance.yahoo.com/news/twitter-gamestop-upstart-fall-premarket-075217111.html',\n",
       "  'https://finance.yahoo.com/news/10-stocks-making-headlines-tuesday-213626352.html',\n",
       "  'https://finance.yahoo.com/news/p-500-climbs-energy-rebound-155302286.html',\n",
       "  'https://finance.yahoo.com/news/midday-movers-upstart-spirit-gamestop-134648988.html',\n",
       "  'https://finance.yahoo.com/news/stock-market-today-p-surges-201337916.html'],\n",
       " 'TSLA': ['https://policies.google.com/terms?hl=en-IN',\n",
       "  'https://finance.yahoo.com/news/stephen-king-testifies-musk-strikes-back-boeing-787-gets-ok-3-legal-stories-to-watch-205355667.html',\n",
       "  'https://finance.yahoo.com/news/chinese-battery-material-stocks-surge-030447808.html',\n",
       "  'https://finance.yahoo.com/news/innovator-list-first-hedged-single-145500095.html',\n",
       "  'https://policies.google.com/privacy?hl=en-IN',\n",
       "  'https://finance.yahoo.com/news/elephant-in-the-room-for-tesla-dan-ives-114140089.html',\n",
       "  'https://finance.yahoo.com/news/how-tesla-gm-could-benefit-from-deal-to-expand-ev-tax-credits-190328684.html',\n",
       "  'https://finance.yahoo.com/news/tesla-q-2-earnings-preview-why-2022-production-target-is-key-182251246.html',\n",
       "  'https://finance.yahoo.com/news/hedged-tesla-fund-promises-buffer-144500391.html',\n",
       "  'https://finance.yahoo.com/news/cowen-analyst-tesla-production-goal-192153537.html',\n",
       "  'https://finance.yahoo.com/news/tesla-amazon-and-apple-led-short-bets-in-june-but-short-interest-is-declining-174719049.html',\n",
       "  'https://finance.yahoo.com/news/bought-tesla-whim-love-still-142345881.html'],\n",
       " 'BTC': ['https://finance.yahoo.com/news/ethereum-bitcoin-crypto-price-flippening-ether-options-market-112129981.html',\n",
       "  'https://finance.yahoo.com/news/digihost-announces-infrastructure-buildout-55-113000743.html',\n",
       "  'https://policies.google.com/terms?hl=en-IN',\n",
       "  'https://finance.yahoo.com/news/man-lost-176-million-worth-112619540.html',\n",
       "  'https://policies.google.com/privacy?hl=en-IN',\n",
       "  'https://ca.finance.yahoo.com/news/cryptoverse-bitcoin-beats-heat-jumpin-051232481.html',\n",
       "  'https://finance.yahoo.com/news/welshman-accidentally-threw-8-000-155128060.html',\n",
       "  'https://finance.yahoo.com/news/bitcoin-slips-best-month-2022-023142837.html',\n",
       "  'https://finance.yahoo.com/news/michael-saylor-microstrategy-ceo-bitcoin-204325431.html',\n",
       "  'https://uk.finance.yahoo.com/news/ethereum-bitcoin-crypto-price-flippening-ether-options-market-112129981.html',\n",
       "  'https://finance.yahoo.com/news/bitcoin-leading-rally-morning-brief-100057101.html',\n",
       "  'https://finance.yahoo.com/news/bitcoin-price-sam-bankman-fried-164605474.html']}"
      ]
     },
     "execution_count": 16,
     "metadata": {},
     "output_type": "execute_result"
    }
   ],
   "source": [
    "cleaned_urls = {ticker:strip_unwanted_urls(raw_urls[ticker], exclude_list) for ticker in monitored_tickers}\n",
    "cleaned_urls"
   ]
  },
  {
   "cell_type": "markdown",
   "metadata": {},
   "source": [
    "### 4.3 Search and Scrape Cleaned URLs"
   ]
  },
  {
   "cell_type": "code",
   "execution_count": 17,
   "metadata": {},
   "outputs": [],
   "source": [
    "def scrape_and_process(URLs):\n",
    "    ARTICLES = []\n",
    "    for url in URLs: \n",
    "        r = requests.get(url)\n",
    "        soup = BeautifulSoup(r.text, 'html.parser')\n",
    "        paragraphs = soup.find_all('p')\n",
    "        text = [paragraph.text for paragraph in paragraphs]\n",
    "        words = ' '.join(text).split(' ')[:350]\n",
    "        ARTICLE = ' '.join(words)\n",
    "        ARTICLES.append(ARTICLE)\n",
    "    return ARTICLES"
   ]
  },
  {
   "cell_type": "code",
   "execution_count": 18,
   "metadata": {},
   "outputs": [
    {
     "data": {
      "text/plain": [
       "{'GME': [\"Effective 5 January 2022 | Archived versions | Download PDF Country version: India These Terms of Service reflect the way that Google’s business works, the laws that apply to our company, and certain things that we’ve always believed to be true. As a result, these Terms of Service help define Google’s relationship with you as you interact with our services. For example, these terms include the following topic headings: Understanding these terms is important because, by using our services, you’re agreeing to these terms. Besides these terms, we also publish a Privacy Policy. Although it’s not part of these terms, we encourage you to read it to better understand how you can update, manage, export and delete your information. Google services are provided by, and you’re contracting with: Google LLCorganised under the laws of the State of Delaware, USA, and operating under the laws of the USA1600 Amphitheatre ParkwayMountain View, California 94043USA If you’re under the age required to manage your own Google Account, you must have your parent or legal guardian’s permission to use a Google Account. Please ask your parent or legal guardian to read these terms with you. If you’re a parent or legal guardian, and you allow your child to use the services, then these terms apply to you and you’re responsible for your child’s activity on the services. Some Google services have additional age requirements as described in their service-specific additional terms and policies. These terms help define the relationship between you and Google. Broadly speaking, we give you permission to use our services if you agree to follow these terms, which reflect how Google’s business works and how we earn money. When we speak of 'Google', 'we', 'us' and 'our', we mean Google LLC and its affiliates, excluding any local entities based in India. Many of these services also include content that you can stream or interact with. Our services are designed to work together, making it easier for you to move from one activity to the next. For example, if your Calendar event includes an address, you can click on that address and\",\n",
       "  \"By Oliver Gray Investing.com - U.S. stock futures were trading flat during Wednesday’s overnight deals after major benchmark averages finished the regular trading session higher as investors proved optimistic following the release of the latest FOMC meeting minutes. By 7:00pm ET (11:00pm GMT) Dow Jones Futures, S&P 500 Futures and Nasdaq 100 Futures all remained little changed. In extended deals, GameStop Corp (NYSE:GME) lifted 9% after announcing that its Board of Directors has approved and declared a four-for-one split of the Company’s Class A common stock in the form of a stock dividend. The dividend will be distributed after trading closes on July 21. Avalo Therapeutics Inc (NASDAQ:AVTX) fell 15.5% after announcing a one-for-twelve reverse stock split of the Company's common stock. Bed Bath&Beyond Inc (NASDAQ:BBBY) moved 5.2% higher after Interim CEO Sue Gove and two directors bought stock. Ahead in the session, investors will turn their attention toward weekly jobless claims, while Levi Strauss&Co (NYSE:LEVI) is set to report earnings after the bell. During Wednesday’s regular session, the Dow Jones Industrial Average gained 69.9 points or 0.2% to 31,037.7, the S&P 500 added 13.7 points or 0.4% to 3,845.1, posting its third straight day of gains while the the NASDAQ Composite rose 39.6 points or 0.4% to 11,361.9. On the policy front, the Federal Reserve’s June meeting minutes showed officials reiterating their tough stance against inflation, saying another 50 or 75 basis point move would “likely be appropriate” at the next meeting. On the bond markets, United States 10-Year yields were at 2.932%. Related Articles Samsung Elec posts higher Q2 profit on strong server-chip demand Real estate giant appeals 'each and every part' of contempt order in New York Trump probe Related Quotes We feel now is a pretty good time to analyse Compass, Inc.'s ( NYSE:COMP ) business as it appears the company may be on... Google-parent Alphabet Inc.’s stock price target was reduced by Monness Crespi Hardt on Tuesday, as positive trends in digital advertising and cloud growth bump up against an apparent recession and a turbulent market environment. Biden needs to move to the center on\",\n",
       "  \"By Peter Nurse Investing.com -- Stocks in focus in premarket trade on Thursday, July 7th. Please refresh for updates. GameStop (NYSE:GME) stock rose 6% after the video game retailer’s board approved a four-for-one stock split that will make it more affordable for investors to own shares of the meme stock. Seagen (NASDAQ:SGEN) stock rose 4.2% after the Wall Street Journal reported that drugmaker Merck (NYSE:MRK), down 1.5%, is in advanced talks to buy the cancer specialist for around $40 billion. Bed Bath & Beyond (NASDAQ:BBBY) stock rose 6% following the news that interim CEO Sue Gove and two directors bought stock in the troubled domestic merchandise retailer. Shell (LON:RDSa) ADRs rose 0.8% after the U.K.-based energy giant said surging margins from fuel production could have added more than $1 billion to its earnings in last quarter, allowing it to reverse up to $4.5 billion of write-downs it had made during the pandemic. Virgin Galactic (NYSE:SPCE) stock rose 4.5% after the space tourism company announced a deal with a subsidiary of Boeing (NYSE:BA), up 0.7%, to build carrier aircraft to support its coming spacecraft fleet. Kohl's (NYSE:KSS) stock fell 1.8% after Bank of America downgraded its stance on the retailer to ‘underperform’ from ‘hold’, citing the termination of takeover talks with Franchise Group (NASDAQ:FRG). Related Articles GameStop, Seagen and Bed Bath & Beyond Rise Premarket; Kohl's Falls Irish regulator moves closer to possible ban on Facebook, Instagram EU-US data flows U.S. Stocks Open Higher as Investors Take in Fed's Rate Outlook Related Quotes The Dow Jones rallied after the latest Fed Minutes were released. Tesla stock fell even as a rival EV play soared. Apple stock popped. Investors have shunned growth stocks in 2022, creating bargains for long-term investors willing to weather the near-term volatility. Yahoo Finance Live's Jared Blikre looks at GameStop's stock ahead of its four-for-one stock split on July 22nd.&nbsp; Yahoo Finance Live anchors discuss GameStop’s plans for a 4-for-1 stock split. The crypto meltdown might represent a buying opportunity for contrarian investors who can stomach the volatility, but most investors should probably avoid that sector and stick\",\n",
       "  'U.S. stocks were mostly flat in a choppy session Friday following the release of June employment data that topped expectations. The U.S. economy created 372,000 jobs in June while the unemployment rate held steady at 3.6% last month, data published Friday morning showed. All three major indexes hovered below breakeven as of 3:29 p.m. ET after swinging between gains and losses throughout the trading day. Treasury yields were higher, with two-year yields rising to 3.11%, further inverting the yield curve; 10-year yields were trading near 3.01%. Investors seemed to take Friday\\'s stronger-than-expected jobs data as a sign the Federal Reserve will remain resolute in its plans to aggressively raise interest rates, with another 0.75% increase in its benchmark rate likely coming later this month. Economists surveyed by Bloomberg expected payroll gains would total 268,000 last month, the smallest of the pandemic recovery but well above the pre-COVID average of about 164,000 per month throughout 2019. The unemployment rate was forecast to hold steady at 3.6%. \"The June employment report reassuringly showed that despite increasing recession concerns, the labor market remains strong,\" Oxford Economics Chief U.S. Economist Kathy Bostjancic wrote in a note to clients following the report. GameStop stock (GME) was among movers in early trading after the video game retailer said Thursday that it terminated its CFO Michael Recupero and revealed plans to slash its workforce as part of a turnaround effort by the company. Shares fell on Friday morning after gaining 15% Thursday after the company announced a four-for-one stock split earlier this week. Levi Strauss (LEVI) stock rose after the company reported earnings for the fiscal second-quarter that beat analyst estimates. The denim apparel maker said it earned 29 cents per share on revenue of $1.47 billion, slightly higher than 23 cents per share on revenue of $1.43 billion analysts had expected, according to Bloomberg data. Twitter (TWTR) shares fell around 4% after the Washington Post reported Tesla CEO Elon Musk’s $44 billion deal to buy Twitter was “in peril,” citing three anonymous sources familiar with the matter. One of the people told the newspaper Musk’s team',\n",
       "  'When you use our services, you’re trusting us with your information. We understand that this is a big responsibility and we work hard to protect your information and put you in control. This Privacy Policy is meant to help you understand what information we collect, why we collect it and how you can update, manage, export and delete your information. Privacy Check-Up Looking to change your privacy settings? Take the Privacy Check-Up We build a range of services that help millions of people daily to explore and interact with the world in new ways. Our services include: You can use our services in a variety of ways to manage your privacy. For example, you can sign up for a Google Account if you want to create and manage content like emails and photos, or see more relevant search results. And you can use many Google services when you’re signed out or without creating an account at all, like searching on Google or watching YouTube videos. You can also choose to browse the web in a private mode, like Chrome Incognito mode. And across our services, you can adjust your privacy settings to control what we collect and how your information is used. To help explain things as clearly as possible, we’ve added examples, explanatory videos and definitions for key terms. And if you have any questions about this Privacy Policy, you can contact us. We want you to understand the types of information we collect as you use our services We collect information to provide better services to all our users – from figuring out basic stuff such as which language you speak, to more complex things like which ads you’ll find most useful, the people who matter most to you online or which YouTube videos you might like. The information Google collects, and how that information is used, depends on how you use our services and how you manage your privacy controls. When you’re not signed in to a Google Account, we store the information that we collect with unique identifiers tied to the browser, application or device that',\n",
       "  'Public Beta Version Live at https://NFT.Gamestop.com GRAPEVINE, Texas, July 11, 2022--(BUSINESS WIRE)--GameStop Corp. (NYSE: GME) (\"GameStop\" or the \"Company\") today announced that it has launched its non-fungible token (\"NFT\") marketplace to allow gamers, creators, collectors and other community members to buy, sell and trade NFTs. The Company’s NFT marketplace is a non-custodial, Ethereum Layer 2-based marketplace that enables parties to truly own their digital assets, which are represented and secured on the blockchain. The marketplace, which can be accessed at https://nft.gamestop.com, allows parties to connect to their own digital asset wallets such as the recently launched GameStop Wallet. Over time, the marketplace will expand functionality to encompass additional categories such as Web3 gaming, more creators and other Ethereum environments. CAUTIONARY STATEMENT REGARDING FORWARD-LOOKING STATEMENTS This press release contains forward-looking statements within the meaning of Section 27A of the Securities Act of 1933, as amended, and Section 21E of the Securities Exchange Act of 1934, as amended. In some cases, forward-looking statements can be identified by the use of terms such as \"anticipates,\" \"believes,\" \"continues,\" \"could,\" \"estimates,\" \"expects,\" \"intends,\" \"may,\" \"plans,\" \"potential,\" \"predicts,\" \"pro forma,\" \"seeks,\" \"should,\" \"will\" or similar expressions. These statements are only predictions based on current expectations and assumptions and involve known and unknown risks, uncertainties and other factors that may cause the Company or its industry’s actual results, levels of activity, performance or achievements to be materially different from any future results, levels of activity, performance or achievements expressed or implied by such forward-looking statements. All forward-looking statements included in this press release are based upon information available as of the date of this press release, and GameStop undertakes no obligation to update or revise any of these forward-looking statements for any reason, whether as a result of new information, future events or otherwise, except as required by law. You should not place undue reliance on these forward-looking statements. The forward-looking statements involve a number of risks and uncertainties. Although GameStop believe that the expectations reflected in these forward-looking statements are reasonable, it cannot guarantee future results, levels of activity, performance or achievements. A number of factors',\n",
       "  'By Peter Nurse Investing.com -- U.S. stocks are seen opening marginally lower Friday, with investors cautious ahead of the release of a key monthly jobs report which could guide future Federal Reserve policy. At 07:00 AM ET (1100 GMT), the Dow Futures contract was down 20 points, or 0.1%, S&P 500 Futures traded 10 points, or 0.3% lower, and Nasdaq 100 Futures declined 65 points, or 0.5%. The major Wall Street indices closed with significant gains Thursday, rallying on hopes that falls in the prices of major commodities like crude oil and copper pointed to inflationary trends already peaking. The blue-chip Dow Jones Industrial Average closed almost 350 points, or 1.1%, higher, the tech-heavy Nasdaq Composite rose 2.3%, and the broad-based S&P 500 gained 1.5%, its fourth consecutive positive day, matching the longest winning streak of the year so far. Yet, despite the recent gains, recession fears remain strong with the Federal Reserve signaling in the minutes of its June policy meeting earlier this week that it was prepared to raise rates another 50-75 basis points at its meeting later this month in a bid to tame inflation. Ahead of this comes the June jobs report, at 08:30 AM ET (1230 GMT), which is expected to show that the economy added 268,000 positions during the month, a slowing down from the 390,000 jobs created in May. The unemployment rate is seen staying at 3.6%, while average hourly earnings, a gauge of inflationary pressures, are expected to grow 0.3% month over month, unchanged from May. In the corporate sector, Levi Strauss (NYSE:LEVI) stock traded higher premarket after the jeans retailer posted strong second-quarter results, lifting its quarterly dividend as people stuck to the comfortable styles that had dominated during lockdown. GameStop (NYSE:GME) stock slumped premarket after the troubled video-game retailer fired CFO Michael Recupero and laid off some employees as part of a turnaround plan. Additionally, Spirit Airlines (NYSE:SAVE) postponed a shareholder vote scheduled for later Friday on its $2.4 billion sale to Frontier Group (NASDAQ:ULCC) so its board can continue discussions with both Frontier and JetBlue Airways (NASDAQ:JBLU). Oil prices',\n",
       "  \"By Peter Nurse Investing.com -- Stocks in focus in premarket trade on Friday, July 8th. Please refresh for updates. Twitter (NYSE:TWTR) stock fell 4.1% after the Washington Post reported that Elon Musk is closer to pulling his $44 billion offer for the social media giant, on the grounds that his team couldn’t verify the data sent by Twitter regarding spam and fake accounts. GameStop (NYSE:GME) stock fell 5.2% after the troubled video-game retailer fired CFO Michael Recupero and laid off an undisclosed number of employees as part of a recovery plan. Levi Strauss (NYSE:LEVI) stock rose 4.6% after the jeans retailer reported strong quarterly results, reaffirmed its full-year guidance, and raised its quarterly dividend by 20% as its comfortable clothing remained in demand.  Spirit Airlines  (NYSE:SAVE) stock rose 2.1% after the low-cost carrier postponed a shareholder vote scheduled for later Friday on its $2.4 billion sale to Frontier Group (NASDAQ:ULCC), down 1.8%, so its board can continue discussions with both Frontier and JetBlue Airways (NASDAQ:JBLU), up 1.1%. Tesla (NASDAQ:TSLA) stock fell 0.3% despite the electric car manufacturer selling just short of 79,000 China-made vehicles in June, its highest monthly sales since opening its Shanghai plant in 2019. Upstart (NASDAQ:UPST) stock slumped 16% after the artificial intelligence lending platform disclosed that it would miss already downgraded guidance, and now expects a second-quarter net loss in the range of $27million to$31 million. WD-40 (NASDAQ:WDFC) stock fell 9% after the lubricant maker reported disappointing third-quarter results and lowered its full-year guidance, citing a challenging inflationary environment.  XPO Logistics  (NYSE:XPO) stock rose 4.8% after Morgan Stanley upgraded its stance on the freight company to ‘overweight’ from ‘equal weight’, saying it is now “too cheap to ignore”. Related Articles Twitter, GameStop and Upstart Fall Premarket; Spirit, Levi Strauss Rise U.S. Stocks Open Lower Despite Big Jump in June Jobs At Colombia-Venezuela border, a trade revival is eagerly awaited Related Quotes A soaring market helped retirement account balances reach new heights in 2021. That might not be the case this year. Yahoo Finance's Jared Blikre breaks down how markets and commodities are\",\n",
       "  'In this article, we will take a look at the 10 stocks making headlines on Tuesday. If you want to see some more companies trending today, go directly to These 10 Stocks Are Making Headlines on Tuesday. \\xa0 Famous companies from the technology and industrial sectors, including Microsoft Corporation (NASDAQ:MSFT), ServiceNow, Inc. (NYSE:NOW) and Delta Air Lines, Inc. (NYSE:DAL), are trending today. Microsoft shares fell nearly three percent this morning after receiving a price-target cut from Morgan Stanley. On the other hand, ServiceNow stock plummeted over 10 percent after its CEO Bill McDermott warned that macro challenges could impact IT spending, hurting the growth of software firms. Photo by AlphaTradeZone In addition, electric vehicle maker Canoo Inc. (NASDAQ:GOEV) and energy company Occidental Petroleum Corporation (NYSE:OXY) were also spotted making big moves this morning. We will discuss the reasons behind the movement of these stocks in the remaining article. Number of Hedge Fund Holders: 18 Shares of GameStop Corp. (NYSE:GME) rose over six percent this morning after the company launched its much-awaited online marketplace for nonfungible tokens (NFTs). The latest development is a part of its efforts to benefit from the increasing adoption of digital currencies and blockchain technology. GameStop Corp. (NYSE:GME) said the platform would enable users to trade NFTs and link their digital asset wallets. In addition, they will also be able to create their own NFTs. Moving forwards, the company plans to add more features, such as Web3 gaming, to the platform in the future. Separately, investment management firm Bronte Capital mentioned GameStop Corp. (NYSE:GME) in its first-quarter 2022 investor letter, stating: \"Gamestop\\xa0is a retailer of video games on DVD ROM trying hard (and maybe with some success) to reinvent itself as an alternative computer game\\xa0 distributor. The company raised enough money that bankruptcy is not an immediately likely outcome. (GME would have gone bankrupt except for the willingness of largely retail investors to provide them with much more cash.) Both have bad financial results. Gamestop\\'s last financial results were terrible. And both stocks more than doubled very rapidly in March from market caps that were absurd to',\n",
       "  \"By Yasin Ebrahim Investing.com -- The S&P 500 jumped Thursday, powered by a rebound in energy stocks and a chip-fueled rally in tech underpinned by better-than-expected results from South Korean tech giant Samsung. The S&P 500 rose 1.5%, the Dow Jones Industrial Average gained 1%, or 345 points, the Nasdaq was up 2.3% Energy stocks clawed back some of their recent losses as oil prices shrugged off data showing U.S. weekly crude inventories unexpectedly rose by 8.2 million barrels in the week ended July 1. Diamondback Energy (NASDAQ:FANG), Marathon Oil (NYSE:MRO), and APA Corporation (NASDAQ:APA) were among the biggest gainers with the latter up more than 7% Chip stocks rose more than 4% to push the broader tech sector higher after Samsung’s better-than-feared results and guidance lifted worries about the outlook for chip demand. Samsung forecast a 11.4% rise in second-quarter operating profit from the prior year, with revenue expected to rise by 20.9% in the quarter year-on-year. Still, some on Wall Street aren’t convinced. “We are less inclined to see positive derivatives from [Samsung’s] better than expected profit number, particularly given memory peer Micron's (NASDAQ:MU) solid FQ3 result and soft FQ4 guide,” Wedbush said. The ongoing strength in tech comes even as Treasury yields tacked on gains despite expectations for aggressive Fed Rate hikes dissipating following recent data showing a slowing economy and signs that inflation could be peaking. “[W]hile the Fed remains focused on inflation, the reversal in market pressures could offer the Committee cover if they did decide to make a smaller move in July,” Stifel said. Initial jobless claims ticked up to the highest level since January, though analysts continued to note that the labor market remains tight. Jobless claims are “still very low relative to history, and it is consistent with tight labor market conditions,” Jefferies said in a note. In other news, GameStop Corp (NYSE:GME) jumped more than 14% after its board backed a 4-for-1 stock split as the video game retailer looks to attract more retail investors. Related Articles Buffett Not Afraid of Recent Energy Sell-Off, Buys Another $700M in Occidental John Paulson's\",\n",
       "  'Thank you for your patience. Our engineers are working quickly to resolve the issue.',\n",
       "  'The S&P 500 matched its longest winning streak of the year Thursday as data continued to suggest that the Federal Reserve just might have some breathing room soon. The Department of Labor reported that 234,000 Americans applied for unemployment benefits during the week ending July 2 – 4,000 more claims than the previous week, and the highest such level in nearly six months. SEE MORE What Is Digital Fashion, And Why Is It Important? \"It\\'s never a good thing to see layoffs, but the pressure on wages may have now peaked,\" says Jamie Cox, managing partner for financial planner Harris Financial Group. \"A few more weeks of these types of numbers and maybe, just maybe, financial conditions are tight enough to allow the Fed to throttle back on the scale of rate increases.\" A much stronger indicator of whether the U.S. central bank will do just that comes tomorrow morning, in the form of the June jobs report. \"The key for tomorrow\\'s jobs report is that it furthers the idea that we\\'ve hit \\'peak hawkishness\\' with the Fed and \\'peak inflation,\\'\" says Tom Essaye, editor of the Sevens Report. \"If the jobs report reflects those two realities, it\\'ll likely spur a continued relief rally. If it implies the opposite, look for another painful decline.\" Also helping to drive stocks was data suggesting global supply-chain disruption might be easing. Jeffrey Roach, chief economist for independent broker-dealer LPL Financial, notes that New York Fed data showed that global supply chains were under less pressure in June compared to May. Sign up for Kiplinger\\'s FREE Investing Weekly e-letter for stock, ETF and mutual fund recommendations, and other investing advice. \"The small improvement in supply chains will eventually filter through to improved consumer pricing,\" says Roach, who adds that supply-chain effects take about four months to affect headline consumer prices. Energy stocks (+3.6%) were the top sector Thursday, led by the likes of APA (APA, +7.8%) and Devon Energy (DVN, +5.2%). Data from the Energy Information Administration showed a recent snap-back in gasoline demand, helping U.S. crude oil futures rebound 4.3% to $102.73 per'],\n",
       " 'TSLA': [\"Effective 5 January 2022 | Archived versions | Download PDF Country version: India These Terms of Service reflect the way that Google’s business works, the laws that apply to our company, and certain things that we’ve always believed to be true. As a result, these Terms of Service help define Google’s relationship with you as you interact with our services. For example, these terms include the following topic headings: Understanding these terms is important because, by using our services, you’re agreeing to these terms. Besides these terms, we also publish a Privacy Policy. Although it’s not part of these terms, we encourage you to read it to better understand how you can update, manage, export and delete your information. Google services are provided by, and you’re contracting with: Google LLCorganised under the laws of the State of Delaware, USA, and operating under the laws of the USA1600 Amphitheatre ParkwayMountain View, California 94043USA If you’re under the age required to manage your own Google Account, you must have your parent or legal guardian’s permission to use a Google Account. Please ask your parent or legal guardian to read these terms with you. If you’re a parent or legal guardian, and you allow your child to use the services, then these terms apply to you and you’re responsible for your child’s activity on the services. Some Google services have additional age requirements as described in their service-specific additional terms and policies. These terms help define the relationship between you and Google. Broadly speaking, we give you permission to use our services if you agree to follow these terms, which reflect how Google’s business works and how we earn money. When we speak of 'Google', 'we', 'us' and 'our', we mean Google LLC and its affiliates, excluding any local entities based in India. Many of these services also include content that you can stream or interact with. Our services are designed to work together, making it easier for you to move from one activity to the next. For example, if your Calendar event includes an address, you can click on that address and\",\n",
       "  'The usually quiet month of August this week kicks off with a trial Monday over the Justice Department\\'s antitrust lawsuit challenging Penguin Random House\\'s pending acquisition of rival Simon & Schuster. We\\'re also watching Tesla (TSLA) CEO Elon Musk\\'s countersuit against Twitter (TWTR), which he filed Friday as part of his ongoing efforts to walk away from his $44 billion agreement to acquire the social media site. And after more than a year of delays, Boeing (BA) reportedly has the Federal Aviation Administration\\'s clearance on its plan to repair and resume deliveries of its 787 Dreamliner. Here\\'s more on the three legal stories we\\'re watching this week: Penguin Random House, the world\\'s largest book publisher, is scheduled to begin a trial in Washington, DC, on Monday to defend the Justice Department’s federal antitrust lawsuit seeking to stop its $2.2 billion deal to acquire rival Simon & Schuster. The deal, reached in 2020, would reduce the number of U.S. publishers from five to four. The Justice Department contends the deal would allow Penguin Random House to control close to half the market for publishing rights acquisitions — leaving consumers with fewer choices. The department also argues that the deal would drive down compensation paid to authors for their work. The legendary novelist Stephen King — author of books including \"The Shining,\" \"Carrie,\" and \"Misery\" — is slated to testify on behalf of the government. Musk struck back against Twitter (TWTR) on Friday in a countersuit as part of his ongoing efforts to avoid going through with his deal to buy the company for $44 billion. The Tesla (TSLA) CEO filed the counterclaim confidentially, hiding it from public view. A counterclaim could frustrate the case’s timeline already set for trial in October, given that time is generally set for the parties to exchange and review documents. Last week the Delaware Chancery Court’s chief judge granted Twitter an expedited trial to take place over five days in October. The judge also granted Musk’s request for an Oct. 17 start date. Twitter is seeking the fast-paced trial to avoid what it says are irreparable',\n",
       "  \"By Ambar Warrick Investing.com-- Shares of Chinese battery material suppliers Zhejiang Huayou Cobalt Co Ltd (SS:603799) and CNGR Advanced Material Co Ltd (SZ:300919) jumped on Monday after the two signed separate supply agreements with electric car maker Tesla (NASDAQ:TSLA). Zhejiang Huayou’s shares jumped nearly 9%, while those of CNGR advanced over 6% after the announcements. While both firms are already listed as official suppliers by Tesla, the new deal will see them expand their sales to the electric vehicle maker. Zhejiang Huayou will supply to Tesla between 2022 and 2025, while CNGR's agreement will be between 2023 and 2025. Tesla has a sizeable presence in China, with a major manufacturing hub in Shanghai. The Tesla Model Y is also among the best-selling passenger vehicles in China. A series of COVID-related lockdowns in the Shanghai factory had seen CEO Elon Musk urge staff to work harder and make up for a rough quarter. Tesla's new deal with the battery material providers comes amid a growing number of auto manufacturers pivoting into electric vehicles, which is expected to weigh on the supply of the materials used in manufacturing batteries. Zhejiang Huayou sources cobalt from sites in Zhejiang, as well as the Democratic Republic of Congo. The firm is also listed as a cobalt supplier to iPhone maker Apple Inc (NASDAQ:AAPL). In July, the firm also signed a supply agreement with Ford Motor Co (NYSE:F) - as the carmaker aims to ramp up its electric vehicle offerings with the new F-150 electric truck. CNGR owns sites in Congo, Zambia, and Canada, and sells to clients in the United States, Europe, and parts of Asia. Zhejiang Huayou and CNGR both outpaced broader Chinese stocks, which rose despite mixed economic indicators. The Shanghai Shenzhen CSI 300 blue-chip index added about 0.5%. Related Articles Chinese Battery Material Stocks Surge on new Tesla Supply Deal World stocks hit 7-week highs, dollar squeezed vs yen European shares rise as banks, HSBC offset weak data Related Quotes Alibaba Group Holding Ltd. says it is striving to maintain its listing status in both New York and Hong Kong after it\",\n",
       "  \"TSLH seeks to provide upside participation in TSLA, subject to a limit on investment gains, while aiming to protect against losses of greater than 10%, each calendar quarter ETF is for investors wanting exposure to the future innovation and growth potential of EV leader with lower risk of significant loss TSLH also for investors seeking a level of protection for a significantly appreciated existing position in TSLA First ETF to provide long exposure to a single-stock with built-in risk management1 CHICAGO, July 25, 2022 (GLOBE NEWSWIRE) -- Innovator Capital Management, LLC (Innovator), the Defined Outcome ETFs™ pioneer, today announced that it plans to list the Innovator Hedged TSLA Strategy ETF (ticker: TSLH) tomorrow, July 26th, on the Cboe. With TSLH, Innovator seeks to provide a risk-managed approach to investing in Tesla (TSLA), which has been one of the most popular and best performing large-cap stocks in the market, but also one of the most volatile2. The ETF’s strategy will seek to solve for the large historical drawdowns in shares of the electric vehicle leader, offering potentially substantial upside exposure to TSLA during periods when the stock rises while attempting to limit downside risk by targeting a protective floor against TSLA losses greater than approximately 10% per quarter. There is no guarantee that the fund will be successful in implementing the strategy. The ETF will not invest directly in TSLA, but rather in options tied to the company. An investor's possible return profile in TSLH will also depend on the time at which such investor purchases and sells shares of the ETF. “While there is little doubt Teslas are amazingly sleek, smooth-driving vehicles, the very volatile ride in the shares of the electric vehicle (EV) leader leaves a lot to be desired for advisors and their clients who are not accustomed to such a rough road. Yet, the innovation potential that Elon Musk’s company represents is hard to ignore. For those investors with a lower risk tolerance who still desire exposure to the potential capital appreciation of one of the most inventive entrepreneurs and leading disruptors in the global economy today\",\n",
       "  'When you use our services, you’re trusting us with your information. We understand that this is a big responsibility and we work hard to protect your information and put you in control. This Privacy Policy is meant to help you understand what information we collect, why we collect it and how you can update, manage, export and delete your information. Privacy Check-Up Looking to change your privacy settings? Take the Privacy Check-Up We build a range of services that help millions of people daily to explore and interact with the world in new ways. Our services include: You can use our services in a variety of ways to manage your privacy. For example, you can sign up for a Google Account if you want to create and manage content like emails and photos, or see more relevant search results. And you can use many Google services when you’re signed out or without creating an account at all, like searching on Google or watching YouTube videos. You can also choose to browse the web in a private mode, like Chrome Incognito mode. And across our services, you can adjust your privacy settings to control what we collect and how your information is used. To help explain things as clearly as possible, we’ve added examples, explanatory videos and definitions for key terms. And if you have any questions about this Privacy Policy, you can contact us. We want you to understand the types of information we collect as you use our services We collect information to provide better services to all our users – from figuring out basic stuff such as which language you speak, to more complex things like which ads you’ll find most useful, the people who matter most to you online or which YouTube videos you might like. The information Google collects, and how that information is used, depends on how you use our services and how you manage your privacy controls. When you’re not signed in to a Google Account, we store the information that we collect with unique identifiers tied to the browser, application or device that',\n",
       "  'Some storm clouds are appearing on the horizon for Tesla bulls after a respectable second quarter. \"The elephant in the room for Tesla (and the broader market) is with dark economic storm clouds on the horizon and Musk himself thinking recession risk is imminent, what does this mean for Tesla\\'s demand story going forward?\" Wedbush Wedbush\\xa0Senior Equity Research Analyst Dan Ives stated in a new note to clients. \"In a nutshell, while June delivery numbers were ugly and nothing to write home about, the Street will be focused on the trajectory for the second half... and the overall demand picture staying firm.\" The electric vehicle maker said over the weekend that second quarter deliveries tallied 254,695. While that represented about 27% year over year growth, it fell short of analyst estimates for 256,520. In a note, Citi Itay Michaeli pinned the miss on a shortfall in deliveries of Tesla\\'s Model 3 and Model Y. The electric vehicle company\\'s performance was held back by an array of issues affecting the auto industry, ranging from semiconductor shortages to COVID restrictions in China. Tesla\\'s second quarter suggests demand hasn\\'t begun to reflect consumer concerns around a recession. In fact, it\\'s reasonable to say Tesla\\'s results would have been stronger if not for supply chain challenges constraining demand. But analysts generally agree that if demand were to slow noticeably in the second half of the year, it could add pressure to Tesla\\'s bottom line at a time of high costs. That would likely hit the stock, which is down 35% so far in 2022. \"We suspect that the interplay of price and cost may matter most for Tesla earnings this year,\" JP Morgan analyst Ryan Brinkman said in a note to clients. \"This interplay we believe presents downside risk to 2Q, given that Tesla experienced sharp battery metals inflation (as well as higher other commodity and non-commodity supply chain costs) but the price hikes of upwards of $10K it announced across its lineup generally apply only to new orders and not to existing reservations (as Rivian tried unsuccessfully earlier this year); however, as the',\n",
       "  'In a surprising move to even Capitol Hill insiders, Senate Majority Leader Chuck Schumer and Democratic Senator Joe Manchin of West Virginia struck a deal on a reconciliation bill, which among other things includes $369 billion on energy and climate spending. Of note for automakers like GM (GM), Tesla (TSLA), Toyota (TM) and others is new money for the expansion of the $7,500 federal EV (electric vehicle) tax credit. Currently Tesla and GM are no longer eligible for the $7,500 federal tax credit for EVs because they have hit the 200,000 unit threshold for the credit. Other automakers like Toyota, Nissan (7201.T), and Ford (F) are also on the verge of losing the credit as well. The new deal removes the 200,000 unit threshold, allowing GM and Tesla to once again receive those full benefits, however there are some limitations. The tax credits are now more targeted towards lower priced EVs, and those people under a certain income threshold. According to the draft of the bill, the full $7,500 EV credit only applies to these vehicles: Vans, SUVs, and pickup trucks costing less than $80,000 Others, meaning sedans and coupes, costing less than $55,000 The income thresholds for receiving the full tax credit are $300,000 in adjusted gross income for joint filers, or $150,000 for individual filers. Also of note is the inclusion of a new federal tax credit of $4,000 for used EVs. The full tax credit is also conditioned upon the vehicle being assembled in North America, and for battery components and materials coming from North America or countries with free trade deals with the U.S. The battery materials sourcing requirements will be phased in over time, according to the deal. Democrats still have many questions to answer in the coming days before they can ensure that the deal — which requires the full support of Democrats —will actually get passed. The first is whether Sen. Kyrsten Sinema (D-AZ) will support it. She has been critical of tax increases in the past and was apparently not included in the secret talks in recent weeks. She has yet to',\n",
       "  'It will be make-or-break for Tesla (TSLA) come Wednesday after the bell, as the electric vehicle maker releases its second quarter earnings report. The Street is expecting Tesla to report Q2 Revenue: $16.88 billion Q2 Adjusted EPS: $1.83 That revenue figure would represent a 2.5% drop from a year ago, which is not that severe considering the production issues Tesla experienced during Q2 due to COVID-related shutdowns at its Shanghai Gigafactory. On the profitability end, Tesla is expected to report adjusted net income, operating profit, and EBITDA figures that are all down over 10% from a year ago. On the positive side, investors will be more focused on the path ahead for Tesla, looking at what CEO Elon Musk and execs have to say about Q3 and the second half of 2022. Questions that will be top of mind will center around ramp ups at the Giga Texas and Giga Berlin plants, whether Giga China is back to full operating capacity, and whether Tesla will reaffirm its 2022 delivery target of 50% CAGR (compound annual growth rate) year over year. Maintaining that rate would mean Tesla will delivery around 1.4 to 1.5 million vehicles in 2022. In a note to clients yesterday, Deutsche Bank analyst Emmanuel Rosner wrote that he expects Tesla will maintain its annual delivery target, which he says implies “considerable volume ramp in the second half.\" Rosner added Tesla to the firm’s short-term “Catalyst Call Buy List,” advising clients to accumulate shares following Tesla’s pullback this year. As of this afternoon, Tesla stock is down 31% year to date, though it is still up 10% over the past year. As far as future models go, investors, analysts, and Tesla fans will be eager to hear any updates on volume production of the Cybertruck, which is slated for production next year and whether the “robotaxi” product Musk had mentioned in last quarter’s earnings call was still on target for a 2024 launch. The robotaxi will supposedly be an autonomous product with no steering wheel or pedals. – Pras Subramanian is a reporter for Yahoo Finance. You can follow',\n",
       "  '(Bloomberg) -- Investors may finally have a way to capture Tesla Inc.’s gains while avoiding the stomach-churning swings the electronic-vehicle stock is known for. Most Read from Bloomberg Who Is Nicole Shanahan, Woman at Center of Musk-Brin Drama? Sergey Brin Ordered Sale of Musk Investments After Affair: WSJ Trump Is Plotting to Blow Up the Constitution Fed to Inflict More Pain on Economy as It Readies Big Rate Hike Shallow Recession Calls Are ‘Totally Delusional,’ Roubini Warns The Innovator Hedged TSLA Strategy ETF (ticker TSLH) is set to launch on the Cboe on Tuesday, and seeks to tap into gains in the carmaker while limiting quarterly losses to 10%. It will invest about 90% of its assets in Treasury bills and 10% in options through a strategy known as call-option spreads, which involves buying in-the-money calls and selling out-of-the-money bullish contracts. While the fund looks to provide a floor to losses in Tesla, it would also cap positive returns. Under recent market conditions, a strategy similar to the one for TSLH would provide about a 10% quarterly cap on gains, according to estimates by the fund’s issuer, Innovator Capital Management LLC. Since the fund is listing at the end of July, the maximum gain this calendar quarter for people who invest at the launch is estimated to be 8.7%. “There is no guarantee that the fund will be successful in implementing the strategy,” Innovator warned in a statement. Investors’ returns will also differ depending on the time at which they buy and sell shares of TSLH during each calendar quarter. Tesla’s stock is down more than 20% this year alongside the bear market in equities, although it’s fared better than some other megacap names such as Alphabet Inc. and automakers like Ford Motor Co. and General Motors Co. A better-than-expected earnings report helped Elon Musk’s company rally in recent days. The stock remains “highly appreciated relative to its peers” with potential to fall, Bruce Bond, chief executive officer of Innovator said in an interview. “Tesla is going to face competition and we think face some challenges down the road potentially,”',\n",
       "  'Tesla (TSLA) stock was up over 9% Thursday afternoon, as the electric vehicle maker reported a better quarter than feared, given production challenges in China, component shortages, and the resources it\\'s using to gear up production at new factories in Austin and Berlin. In Tesla’s shareholder letter, the company noted that its installed annual capacity, or theoretical max production, increased by nearly two-fold. Tesla\\'s Fremont production capacity expanded to 650,000 vehicles from 600,000 last quarter, and Giga Shanghai’s capacity grew to 750,000 from 450,000. Meanwhile, production of vehicles ramped up in both Austin and Berlin, with Tesla now claiming each factory has an installed capacity for 250,000 vehicles. Overall, Tesla says it could theoretically deliver nearly 2 million of its EVs per year — a massive figure for a company that delivered 936,000 vehicles in 2021. Still, one analyst thinks that goal may be overly ambitious. “Tesla is still in an elongated demand cycle; it\\'s not like there\\'s a bunch of vehicles sitting on the lot. I think demand is strong,” says Jeffrey Osborne, Cowen senior research analyst. Still, he added, “I\\'m not sure it\\'s running at a 2 million run rate they\\'re talking about, especially with the portfolio being a bit stale in my view.\" Osborne predicts Tesla will hit that production rate by the fourth quarter of 2023, citing production capacity in Germany and Texas as one concern. Still, on Tesla\\'s earnings call on Wednesday, Tesla Powertrain and Energy Engineering head Andrew Bagliano expressed optimism regarding the Austin and Berlin ramp-ups. “We’ve grown cell production significantly on a 12-month rolling basis and have long-term contracts with all our partners for key battery metals, so we don’t see any major problems for the components, of course, barring unforeseen COVID-related shutdowns,” he said. Tesla aims to deliver roughly 1.5 million vehicles in 2022, an ambitious figure compared to the 936,172 deliveries it reported last year. Given that Tesla delivered 310,000 vehicles in the first quarter and 250,000 in the second, the company would need to deliver a relatively ambitious 900,000 vehicles in the second half of 2022 — almost doubling',\n",
       "  'Hypergrowth tech stocks led last year’s market (and several years prior) to all-time highs. In 2022, some of the same companies proved to be a lucrative trade again – but this time, among short sellers. Research from S3 Partners Research (S3) shows that in June, Tesla (TSLA), Amazon (AMZN), and Apple (AAPL) were the most profitable shorted stocks, each churning out mark-to-market profits of more than $1 billion for traders betting on their declines. Short sellers borrow shares of a company they speculate will decline and sell them in anticipation the stock price will fall, with a goal of purchasing them back at a lower price and pocketing the difference. The winning streak for technology shorts came amid a sharp market decline in the broader market that saw the Nasdaq shed 8.7% during the month and log its worst first six months of the year on record. As technology stocks tanked during a rout in the sector this year, bets against some of the biggest companies in the space churned out roughly $20 billion in profits for short sellers, per S3’s data. In the prior two years, bets against mega-cap tech stocks saw a $36 billion loss as these companies rallied sharply. The downturn in U.S. equities more generally in 2022 has been a win for traders betting against the stock market. U.S. equity short-sellers were up 30% for the year through the end of June, according to the financial data and analytics firm. And while these traders continue to outperform the broader markets, short interest declined by $73.5 billion in June: from $981.6 billion in May to $908.1 billion. Investors continued to place new short bets but scaled back to $20 billion last month, compared to $65.5 billion of additional short selling in May. “This may be a sign that short sellers are sensing that a market bottom is near, and they are satisfied seeing their overall short exposure shrink slightly as the market value of their existing short positions decline ahead of what may be a possible market rally,” S3’s Ihor Dusaniwsky and Matthew Unterman stated in the',\n",
       "  \"Liz Eselius-Naporano bought a Tesla Model Y in 2021 while out on a shopping trip with her son.\\xa0 She says it's a unique and fun car that's great for not using gas money on close-to-home commutes. This is her story, as told to writer Jules Rogers.\\xa0 This as-told-to essay is based on a conversation with Liz Eselius-Naporano, who bought a Tesla Model Y in 2021. This conversation has been edited for length and clarity. A little over a year ago, I was shopping with my son. He's a college student and was 22 at the time. We went to the mall to buy new clothes, and we stopped by the Tesla dealership. My son absolutely loves Elon Musk and is obsessed with Tesla, and I ended up walking out with a Tesla Model Y from 2021. My favorite feature of the car is that it's very comfortable. I love the white interior, and I got the white exterior too, which I think looks very sharp. I also love the Toybox, a tech menu that shows all the cool Tesla electronics features such as the Boombox, which can play audio inside and outside the vehicle. Another feature that I love about the car is the app that shows where my kids are, and the speed they're driving. I do have a Volkswagen Beetle Convertible, but we needed a second car because I have two kids. I liked the idea of never having to go to a smelly gas station again.\\xa0I bought it for environmental reasons and not so much to save money at the gas pump, because at the time, gas wasn't really expensive. I'm not a car person. I've always been the kind of person who sees a car as getting you from A to B safely and with a lot of reliability, but I do love driving this car. I planned a last-minute trip to visit my friend in South Carolina. I live right next to Detroit, so it was a long journey. The night before, I was psyching myself up. I told myself that I was going to\"],\n",
       " 'BTC': [\"Ether has flipped bitcoin for the first time on the world's largest options market. Crypto-analysts see this as the latest signal that ethereum (USD-ETH) may soon overtake bitcoin in terms of market capitalisation rankings. At present bitcoin (USD-BTC), which fell on Tuesday by almost 2% to $22,800 (£18,077), has always topped cryptocurrency rankings by market capitalisation. As of the time of writing, bitcoin has a market cap of approximately $436bn compared with ethereum's $190bn. Ethereum, though, has followed bitcoin's slide: ether fell nearly 6% in the last 24 hours. Read more: Crypto live prices On Monday, the world's largest options exchange, Deribit, saw $5.7bn locked into ether options contracts. This is 32% higher than the $4.3bn locked into open bitcoin options trades on the same market. There are a lot more traders interested in trading ether over bitcoin ahead of the coming ethereum merge in September. The long-awaited 'merge' of ethereum will see the network become a fully 'proof of stake' blockchain. The merge is scheduled for September and will make ethereum a low-energy usage blockchain, as it will have abandoned the high-energy intensive 'proof of work' method for verifying transactions that was invented by Satoshi Nakamoto with the founding of bitcoin. The merge will not only dramatically improve ethereum's environmental impact, it will also pave the way for cheaper and more efficient transactions on the network. Ethereum's merge to proof of stake could open the blockchain to inward investment from institutional finance, which remained cautious in the past because of the carbon footprint associated with proof of work. Read more: Ethereum: Two glimmers of hope for crypto investors as crash stabilises One of the world's largest cryptocurrency exchanges, Coinbase (COIN), forecasts that US domestic institutional clients will wish to generate yield by staking ether after the merge. Coinbase Prime now provides institutions with an end-to-end staking experience. Clients can create a wallet, decide how much to stake, and initiate staking with a Coinbase Prime account. Staking 32 ether sets up an ethereum node, and is the equivalent of a mining operation on the bitcoin blockchain. Read more: Ethereum supply\",\n",
       "  'This news release constitutes a “designated news release” for the purposes of the Company’s prospectus supplement dated March 4, 2022 to its short form base shelf prospectus dated February 23, 2022. TORONTO, Aug. 02, 2022 (GLOBE NEWSWIRE) -- Digihost Technology Inc. (“Digihost” or the “Company”) (Nasdaq: DGHI; TSXV: DGHI), an innovative U.S. based Bitcoin (“BTC”) mining company, is pleased to provide unaudited comparative BTC production results for the month ended July 31, 2022, combined with an operations update. All monetary references are expressed in USD unless otherwise indicated. Production Highlights for July 2022 Mined 64.17 BTC, resulting in total holdings of 220.09 BTC at the end of July valued at approximately $5.14 million based on a BTC price of $23,337 as of July 31, 2022. Ethereum (“ETH”) holdings of 1,000.89 ETH at the end of July valued at approximately $1.68 million based on an ETH price of $1,681.52 as of July 31, 2022. Total digital asset inventory value, consisting of BTC and ETH, of approximately $6.82 million as of July 31, 2022. In addition, the Company held cash of approximately $4.5 million and derivative instruments of approximately $500,000 as of July 31, 2022. Cash and liquid assets as of July 31, 2022 totalled approximately $11.82 million.  To avoid equity dilution for its shareholders, management sold a portion of its BTC production during the month to fund its energy costs. The Company is debt free as of July 31, 2022.  To support the power needs of the local community, the Company reduced its overall energy consumption during the month of July 2022 with its operation running predominantly at off-peak hours. Year-Over-Year Monthly Comparison The Company mined approximately 13.69 more BTC in July 2022, compared to July 2021, representing an increase of approximately 26.7%. Figure 1. Year-over-year Monthly BTC Production \\xa0 \\xa0 \\xa0 \\xa0 \\xa0 \\xa0 \\xa0 \\xa0 \\xa0 Jul-22 Jul-21 MoM Increase \\xa0 \\xa0 \\xa0 \\xa0 Mined BTC \\xa0 64.97 \\xa0 51.28 \\xa0 13.69 \\xa0 Approximate BTC value $23,337 $41,626 ($18,289 ) Production Value $1,516,205 $2,134,581 ($618,376 ) \\xa0 \\xa0 \\xa0 \\xa0  Year-Over-Year YTD Comparison The Company mined',\n",
       "  \"Effective 5 January 2022 | Archived versions | Download PDF Country version: India These Terms of Service reflect the way that Google’s business works, the laws that apply to our company, and certain things that we’ve always believed to be true. As a result, these Terms of Service help define Google’s relationship with you as you interact with our services. For example, these terms include the following topic headings: Understanding these terms is important because, by using our services, you’re agreeing to these terms. Besides these terms, we also publish a Privacy Policy. Although it’s not part of these terms, we encourage you to read it to better understand how you can update, manage, export and delete your information. Google services are provided by, and you’re contracting with: Google LLCorganised under the laws of the State of Delaware, USA, and operating under the laws of the USA1600 Amphitheatre ParkwayMountain View, California 94043USA If you’re under the age required to manage your own Google Account, you must have your parent or legal guardian’s permission to use a Google Account. Please ask your parent or legal guardian to read these terms with you. If you’re a parent or legal guardian, and you allow your child to use the services, then these terms apply to you and you’re responsible for your child’s activity on the services. Some Google services have additional age requirements as described in their service-specific additional terms and policies. These terms help define the relationship between you and Google. Broadly speaking, we give you permission to use our services if you agree to follow these terms, which reflect how Google’s business works and how we earn money. When we speak of 'Google', 'we', 'us' and 'our', we mean Google LLC and its affiliates, excluding any local entities based in India. Many of these services also include content that you can stream or interact with. Our services are designed to work together, making it easier for you to move from one activity to the next. For example, if your Calendar event includes an address, you can click on that address and\",\n",
       "  'James Howells threw out a hard drive to a landfill in 2013 that contained 8,000 bitcoins. He has an $11 million business plan to excavate the drive and recover the bitcoins. The plan includes budget for two robotic dogs from Boston Dynamics. James Howells, the man who made headlines after he lost 8,000 bitcoins on a hard drive that he accidentally threw away, has a master plan to get his cryptocurrency back. Howells threw out the hard drive containing the bitcoins in 2013. It ended up in Howells\\' local landfill in Newport, Wales. In a new interview with Insider, Howells said he has put together an $11 million business plan to recover the hard drive, the value of which stands at roughly $176 million at time of writing — although the value of bitcoin can fluctuate. Howells told Insider his plan budgets for two robotic \"Spot\" dogs from Boston Dynamics. Boston Dynamics\\' Spot robot first became commercially available in June 2020, when it hit the market at $74,500 per unit. Since then Spot has been used to perform scans for construction projects, herd sheep, and patrol parks in Singapore to enforce social distancing. Howells told Insider the robots would be used both for security as roaming CCTV cameras and to scan the ground to search for his missing hard drive. He said the project would require two dogs so one could be on patrol while the other charges its battery. Howells said if the project does go ahead, he would like to name the robotic dogs \"Satoshi\" and \"Hal.\" Satoshi Nakamoto is a pseudonym for the person or group of people who created Bitcoin, and Hal Finney was the first-ever recipient of a bitcoin transaction. Howells told Insider he constructed his plan with the help of expert advisors and secured funding via two venture capitalists. He hopes it will help convince Newport City Council to allow him to excavate the landfill. The council has consistently denied Howells access to the landfill since 2013, and his chances still look slim. A council spokesperson told Insider there is \"nothing that Mr. Howells',\n",
       "  'When you use our services, you’re trusting us with your information. We understand that this is a big responsibility and we work hard to protect your information and put you in control. This Privacy Policy is meant to help you understand what information we collect, why we collect it and how you can update, manage, export and delete your information. Privacy Check-Up Looking to change your privacy settings? Take the Privacy Check-Up We build a range of services that help millions of people daily to explore and interact with the world in new ways. Our services include: You can use our services in a variety of ways to manage your privacy. For example, you can sign up for a Google Account if you want to create and manage content like emails and photos, or see more relevant search results. And you can use many Google services when you’re signed out or without creating an account at all, like searching on Google or watching YouTube videos. You can also choose to browse the web in a private mode, like Chrome Incognito mode. And across our services, you can adjust your privacy settings to control what we collect and how your information is used. To help explain things as clearly as possible, we’ve added examples, explanatory videos and definitions for key terms. And if you have any questions about this Privacy Policy, you can contact us. We want you to understand the types of information we collect as you use our services We collect information to provide better services to all our users – from figuring out basic stuff such as which language you speak, to more complex things like which ads you’ll find most useful, the people who matter most to you online or which YouTube videos you might like. The information Google collects, and how that information is used, depends on how you use our services and how you manage your privacy controls. When you’re not signed in to a Google Account, we store the information that we collect with unique identifiers tied to the browser, application or device that',\n",
       "  'By Lisa Pauline Mattackal and Medha Singh (Reuters) - It\\'s been a good month for bitcoin - and we haven\\'t said that for a while. After months of freefall, it jumped more than 17% in July, its best performance since October. Ether rose 57%, its strongest monthly gain since January 2021. The rally was in step with gains of riskier assets such as stocks as investors bet that economic weakness could deter the Fed from aggressively tightening monetary policy. Bitcoin\\'s 40-day correlation to the tech-focused Nasdaq now stands at 0.90 - up from 0.41 in January - where 1 means their prices move in perfect lockstep. The leading cryptocurrency has been consistently positively correlated with the Nasdaq since late November, unlike in previous years where it would routinely turn negative, meaning they moved in opposite directions. Itai Avneri, deputy CEO at cryptocurrency trading platform INX, described July\\'s convergence as \"good news\". \"It means institutional investors are looking at bitcoin like any other asset,\" he said. \"When the market turns - and it will turn – these institutions will come back and invest in crypto.\" Gains were not limited to bitcoin, as the value of the global cryptocurrency market crept back above $1.15 trillion last month, adding over $255 billion since the end of June, CoinGecko data showed. Assets under management in digital asset investment products rose 16.9% to $25.9 billion in July, reversing June\\'s decline of 36.8%, according to research firm CryptoCompare. However, trading has been thin - indicating plenty of investors gauge it\\'s too early to turn bullish in a deeply uncertain macro backdrop with inflation rampant, and America and Europe staring down the barrel of a recession, not to mention the implosion of some big crypto players. Average daily volumes across all digital asset investment products fell by 44.6% to $122 million, the lowest since September 2020, CryptoCompare found. \"On a medium-term horizon, we\\'re bearish (on crypto) despite the current bounce, this aligns with our stance on equities,\" researchers at MacroHive wrote on Friday, citing inflation, recession risks and rate hikes. Bitcoin correlation with Nasdaq: https://tmsnrt.rs/3d0Goex A LONG',\n",
       "  \"James Howells was doing some housecleaning in 2013 when he mistakenly threw out a hard drive that contained 8,000 Bitcoin he had mined. At the time, it was a mistake that cost him anywhere from $108,000 to $8.6 million depending on when he tossed the drive (2013 was a particularly volatile year for Bitcoin). That’s enough to make anyone kick themselves. Bitcoin, though, has only gotten more expensive, meaning Howells' losses have continued to grow. Even with the recent crypto winter, they now stand at $187 million. And now, he’s launching an expedition to try and recover the lost drive. Howells is petitioning the Newport (Wales) City Council to allow him to dig up the landfill that contains the hard drive. It’s a needle in a very large, very dirty haystack, filled with 110,000 tons of garbage. But if he convinces the city to let him conduct the search, he has a pair of venture capitalists ready to put up $11 million to conduct the excavation. The city, for years, has denied Howells’ request, saying the ecological impact would be too severe. With the current plan, which includes robot dogs and an A.I.-powered scanner, Howells says he believes that would be minimized. He has also vowed to build a solar station above the landfill when the search is complete. Should the Council approve this plan and the disk be found, and should the data on it be recoverable (any one of which is far from certain), Howells won’t walk away with the full $187 million. Under the terms of the deal, he and his VC partners would both keep 30% (roughly $56 million each), the team members who assist in the search would receive a portion, and each of Newport’s 150,000 citizens would receive £50. It wouldn’t be the first time that a treasure (albeit of a different kind) was found in a dump. In 2014, a pair of documentary filmmakers managed to dig up the long-rumored unsold copies of ET: The Extraterrestrial for the Atari 2600 that were buried in a New Mexico landfill after the company was unable\",\n",
       "  '(Bloomberg) -- Bitcoin declined after reaching the highest levels since mid-June on Saturday amid optimism that the market may have recovered from its worst levels. Most Read from Bloomberg Manchin Spending Deal Includes Billions in Oil Import Taxes You Won’t Like What Comes After Inflation Pelosi Is Expected to Visit Taiwan, Ramping Up US-China Tensions China’s Rebound Remains Fragile as Factories, Property Slump The largest cryptocurrency dropped as much as 3.6% to $22,958 on Monday after breaking above $24,000 over the weekend, its highest since mid-June. Its 27% gain in July made for the best month since October. Ether slid more than 5% at the start of the week as well after posting a 70% jump last month, its best since January 2021. “August promises to be every bit as stomach-churning for Bitcoin with further bouts of volatility guaranteed,” said Antoni Trenchev, co-founder and managing partner at crypto lender Nexo. Yet he’s “leaning towards a re-run of July’s resilience over June’s capitulation” after “Bitcoin absorbed last week’s one-two macro punch” of the Federal Reserve rate hike and data showing the US economy contracted for a second consecutive quarter. Bitcoin had fallen below $20,000 during late June and July amid concern about interest-rate hikes and inflation, as well as troubles internal to cryptocurrencies, like the implosion of the Terra/Luna ecosystem and hedge fund Three Arrows Capital. Its still well off the record high around $69,000 from November, but has begun showing some strength of late as the stock market has also rallied. In July, the S&P 500 gained 9%, the most since November 2020. “Cryptos and equities have been positively correlated to one another, and that has especially been the case for the mega caps,” Jake Gordon at Bespoke Investment Group wrote in a note at the end of last week. He cited solid earnings results from big-cap tech firms, which “likely assisted in boosting risk sentiment to lift cryptos higher.” Still, Bitcoin is hitting up against some major resistance points and its recent rally might not have legs, according to Katie Stockton, co-founder of Fairlead Strategies, a research firm focused',\n",
       "  'MicroStrategy (MSTR) announced on Tuesday its founder and CEO Michael Saylor will step down from the top job and take a new post as executive chairman, focused on the company\\'s bitcoin strategy. Phong Le, the company\\'s president, will take over in the CEO role. MicroStrategy reported quarterly results that were light of Wall Street estimates on Tuesday, with revenue coming at $122.1 million against expectations for $126 million. Losses in the quarter totaled $918.1 million, with $917.8 million attributable to the company\\'s bitcoin holdings. In a statement, MicroStrategy said Saylor will focus primarily on, \"innovation and long-term corporate strategy, while continuing to provide oversight of the Company’s bitcoin acquisition strategy.\" \"As Executive Chairman I will be able to focus more on our bitcoin acquisition strategy and related bitcoin advocacy initiatives, while Phong will be empowered as CEO to manage overall corporate operations,” Saylor said in a statement. At the end of Q2, the carrying value of MicroStrategy’s digital assets (comprised of approximately 129,699 bitcoins) was $1.988 billion, which reflects cumulative impairment losses of $1.989 billion since acquisition and an average carrying amount per bitcoin of approximately $15,326, the company said in a statement. The original cost basis and market value of MicroStrategy’s bitcoin were $3.977 billion and $2.451 billion, respectively, which reflects an average cost per bitcoin of approximately $30,664 and a market price per bitcoin of $18,895.02, respectively. While not reflective of the current value of the company\\'s bitcoin investment, the impairment offers the latest evidence for how rough the crypto market has been for bitcoin\\'s largest known corporate holder. As of Tuesday afternoon, the price of bitcoin has recovered 23% from its low of $17,708 per coin on June 17 though it remains 51% below year to date. Since first buying bitcoin during the third quarter of 2020, MicroStrategy has invested over $4 billion into the cryptocurrency. To do that, it\\'s issued corporate debt, convertible bonds, issued stock, and taken out a loan with some of its bitcoin. MicroStrategy shares were little-changed in after hours trading following this announcement. Through Tuesday\\'s close, the stock has gained over 40%',\n",
       "  \"Ether has flipped bitcoin for the first time on the world's largest options market. Crypto-analysts see this as the latest signal that ethereum (USD-ETH) may soon overtake bitcoin in terms of market capitalisation rankings. At present bitcoin (USD-BTC), which fell on Tuesday by almost 2% to $22,800 (£18,077), has always topped cryptocurrency rankings by market capitalisation. As of the time of writing, bitcoin has a market cap of approximately $436bn compared with ethereum's $190bn. Ethereum, though, has followed bitcoin's slide: ether fell nearly 6% in the last 24 hours. Read more: Crypto live prices On Monday, the world's largest options exchange, Deribit, saw $5.7bn locked into ether options contracts. This is 32% higher than the $4.3bn locked into open bitcoin options trades on the same market. There are a lot more traders interested in trading ether over bitcoin ahead of the coming ethereum merge in September. The long-awaited 'merge' of ethereum will see the network become a fully 'proof of stake' blockchain. The merge is scheduled for September and will make ethereum a low-energy usage blockchain, as it will have abandoned the high-energy intensive 'proof of work' method for verifying transactions that was invented by Satoshi Nakamoto with the founding of bitcoin. The merge will not only dramatically improve ethereum's environmental impact, it will also pave the way for cheaper and more efficient transactions on the network. Ethereum's merge to proof of stake could open the blockchain to inward investment from institutional finance, which remained cautious in the past because of the carbon footprint associated with proof of work. Read more: Ethereum: Two glimmers of hope for crypto investors as crash stabilises One of the world's largest cryptocurrency exchanges, Coinbase (COIN), forecasts that US domestic institutional clients will wish to generate yield by staking ether after the merge. Coinbase Prime now provides institutions with an end-to-end staking experience. Clients can create a wallet, decide how much to stake, and initiate staking with a Coinbase Prime account. Staking 32 ether sets up an ethereum node, and is the equivalent of a mining operation on the bitcoin blockchain. Read more: Ethereum supply\",\n",
       "  'This article first appeared in the Morning Brief. Get the Morning Brief sent directly to your inbox every Monday to Friday by 6:30 a.m. ET. Subscribe Friday, July 29, 2022 Today\\'s newsletter is by Jared Blikre, a reporter focused on the markets on Yahoo Finance. Follow him on Twitter @SPYJared. The Nasdaq is on a two-day tear, surging 5% after the Federal Reserve announced another 0.75% interest rate increase and GDP data showed another quarter of negative growth. Impressive, to be sure, but a move overshadowed by some of what we\\'ve seen in crypto markets this week. The price of bitcoin (BTC-USD) has surged over 12% since Wednesday morning, with ethereum (ETH-USD) up by more than twice this amount. All of which fits the framework of an environment The Macro Compass argues can be defined by investors saying — \"the riskier the better.\" Since the market\\'s most recent bottom on June 16, we\\'ve seen many of the styles and sectors that led us into bear market territory lead us towards a potential way out. And this week\\'s post-earnings reactions from names like Amazon (AMZN) and Microsoft (MSFT) show investors are still itching to give companies the benefit of the doubt. All of which makes the action in names like Meta Platforms (META) more painful. Which brings us back to bitcoin. In May, bitcoin\\'s correlation with stocks peaked at 0.82. The max correlation for any asset pair is 1, meaning these assets would move the same direction by the same magnitude. But this correlation between stocks and crypto peaked as both markets were on the way down after the implosion of stablecoin Terra. Since then, crypto markets had generally been lagging the stock market and sitting out this recent rally. The spike in the correlation between these asset classes in recent days again shows the character of this new environment — \"the riskier the better.\" As stocks have risen amid optimism around the Fed\\'s plans, crypto assets have risen, too, with the correlation between bitcoin and the S&P 500 back near 0.7. Fed Chair Jerome Powell catalyzed this risk ramp on',\n",
       "  \"Amid a flood of economic data this week bitcoin (BTC-USD), ether (ETH-USD), and other cryptocurrencies have surged along with other risk assets. Following the Federal Reserve's Wednesday announcement to raise interest rates by 75 basis points, bitcoin climbed as high as $24,292 early Friday morning, and is up more than 20% since its most recent low of $18,728 on July 2. Ether has more than doubled bitcoin’s gains over the same period, jumping as much as 57% from $1,009 to $1,737 as of Friday morning, a price the second-largest cryptocurrency hasn't seen since credit dried up for dozens of crypto firms at the beginning of June. “Really what’s driving all of this is expectations about future inflation or lack thereof,” Sam Bankman-Fried, FTX founder and CEO told Yahoo Finance earlier this week. “When you see market movements, a lot of what’s happening is that there’s been a shift in sentiment about whether monetary supply is increasing or decreasing and that’s all coming from [how] the Fed responds,” Bankman-Fried added. To be sure, the total market capitalization for all crypto assets is still down roughly 60% from its peak reached in November 2021. But cryptocurrency prices have rebounded over the first half of July with fresh buying having sent the sector's total market cap back above $1 trillion. The 200-day moving average (DMA), which traders use as a technical gauge for whether an asset's trend is broadly higher or lower, still sits far above current levels and is declining for both bitcoin and ether. For bitcoin and ether, these declining 200-DMAs stood at around $34,270 and $2,352, respectively, as of Friday morning. Luke Farrell, a crypto trader with digital asset market maker GSR, noted the U.S. dollar’s strength appears to have peaked in roughly the same 24-hour stretch during which bitcoin hit its relative July bottom at $19,134 per coin. The broad dollar index (DX-Y.NYB) has fallen by more than 2% since peaking in mid-July. Michael Safai, a partner with crypto trading firm Dexterity Capital, told Yahoo Finance, the U.S. central bank set expectations for a 0.75% rate hike earlier this\"]}"
      ]
     },
     "execution_count": 18,
     "metadata": {},
     "output_type": "execute_result"
    }
   ],
   "source": [
    "articles = {ticker:scrape_and_process(cleaned_urls[ticker]) for ticker in monitored_tickers}\n",
    "articles"
   ]
  },
  {
   "cell_type": "markdown",
   "metadata": {},
   "source": [
    "### 4.4 Summarise all Articles"
   ]
  },
  {
   "cell_type": "code",
   "execution_count": 19,
   "metadata": {},
   "outputs": [],
   "source": [
    "def summarize(articles):\n",
    "    summaries = []\n",
    "    for article in articles:\n",
    "        input_ids = tokenizer.encode(article, return_tensors='pt')\n",
    "        output = model.generate(input_ids, max_length=55, num_beams=5, early_stopping=True)\n",
    "        summary = tokenizer.decode(output[0], skip_special_tokens=True)\n",
    "        summaries.append(summary)\n",
    "    return summaries"
   ]
  },
  {
   "cell_type": "code",
   "execution_count": 20,
   "metadata": {},
   "outputs": [
    {
     "data": {
      "text/plain": [
       "{'GME': ['Terms of Service apply to all of our products and services.',\n",
       "  'Fed officials said another 50 or 75 basis point move would ‘likely be appropriate’.',\n",
       "  'Merck said to be in advanced talks to buy Seagen. Shell, Bed Bath & Beyond, Virgin Galactic among companies in focus',\n",
       "  'U.S. economy added 372,000 jobs last month. Unemployment rate held steady at 3.6% in June',\n",
       "  'We collect information to provide better services to all our users.',\n",
       "  'Non-fungible token marketplace allows gamers, creators, collectors and other community members to buy, sell and trade NFTs.',\n",
       "  'Weekly take on events in the world economy and their fallout.',\n",
       "  'Tesla, Spirit, Upstart, XPO Logistics among day’s gainers. Twitter, GameStop, Levi Strauss among day’s gainers',\n",
       "  'ServiceNow, Microsoft and Delta Air Lines make big moves today.',\n",
       "  'Weekly crude inventories unexpectedly rose. Jobless claims rise to highest since January',\n",
       "  'We are aware of the issue and are working to resolve it.',\n",
       "  'Weekly jobless claims rise to highest since March. Energy stocks lead the S&P 500 higher'],\n",
       " 'TSLA': ['Terms of Service apply to all of our products and services.',\n",
       "  'Justice Department suing to block Penguin Random House deal. Twitter countersued by Tesla CEO Elon Musk over $44 billion deal',\n",
       "  'Zhejiang Huayou and CNGR to supply Tesla. Both firms are already listed as official suppliers by Tesla',\n",
       "  'TSLH seeks to provide upside exposure to TSLA during periods when the stock rises.',\n",
       "  'We collect information to provide better services to all our users.',\n",
       "  'Electric vehicle maker reported better-than-expected second quarter. Musk says recession risk is imminent, could slow demand',\n",
       "  'The deal includes new money for electric vehicle tax credits. Lower priced EVs now targeted for full credit',\n",
       "  'Wall Street expects Tesla to report revenue of $16.88 billion. Investors looking to see if production ramp up can continue',\n",
       "  'Hedged TSLA Strategy ETF to launch on Cboe on Tuesday. Investors’ returns could vary depending on when they buy and sell shares',\n",
       "  'Tesla says it can theoretically deliver nearly 2 million EVs per year. But one analyst says goal may be overly ambitious',\n",
       "  'Tesla, Amazon and Apple were most profitable shorted stocks in June. Investors scaled back new short bets last month, S3 says',\n",
       "  'Liz Eselius-Naporano bought a Tesla Model Y while out on a shopping trip with her son.'],\n",
       " 'BTC': ['Deribit saw $5.7bn of ether options trades on Monday. Analysts see this as a sign that ethereum may soon overtake bitcoin in market capitalisation',\n",
       "  'Year-over-year production increase of 13.69 more BTC in July 2022.',\n",
       "  'Terms of Service apply to all of our products and services.',\n",
       "  'Robots from Boston Dynamics could be used to search for his missing hard drive. Newport City Council has consistently denied Howells access to the landfill',\n",
       "  'We collect information to provide better services to all our users.',\n",
       "  'The cryptocurrency has been positively correlated with the Nasdaq since late November.',\n",
       "  'Lost hard drive could be worth up to $187 million. VCs willing to put up $11 million for search.',\n",
       "  'Largest cryptocurrency posted its best month since October. Still, ‘Bitcoin is hitting up against major resistance points,’ says Stockton',\n",
       "  'Saylor to step down as CEO, focus on bitcoin strategy. Losses in the quarter were $918.1 million, with crypto impairment',\n",
       "  'Deribit saw $5.7bn of ether options trades on Monday. Analysts see this as a sign that ethereum may soon overtake bitcoin in market capitalisation',\n",
       "  \"Bitcoin's correlation with S&P 500 is near a peak.\",\n",
       "  'Bitcoin, Ether and other coins have more than doubled since mid-July lows. U.S. dollar has fallen by more than 2% since peaking in mid-July']}"
      ]
     },
     "execution_count": 20,
     "metadata": {},
     "output_type": "execute_result"
    }
   ],
   "source": [
    "summaries = {ticker:summarize(articles[ticker]) for ticker in monitored_tickers}\n",
    "summaries"
   ]
  },
  {
   "cell_type": "markdown",
   "metadata": {},
   "source": [
    "### 5. Adding Sentiment Analysis"
   ]
  },
  {
   "cell_type": "code",
   "execution_count": 23,
   "metadata": {},
   "outputs": [
    {
     "name": "stdout",
     "output_type": "stream",
     "text": [
      "2022-08-03 09:29:37,836 https://nlp.informatik.hu-berlin.de/resources/models/sentiment-curated-distilbert/sentiment-en-mix-distillbert_4.pt not found in cache, downloading to C:\\Users\\LENOVO\\AppData\\Local\\Temp\\tmpvnpw02z5\n"
     ]
    },
    {
     "name": "stderr",
     "output_type": "stream",
     "text": [
      "100%|██████████| 265512723/265512723 [00:23<00:00, 11197332.54B/s]"
     ]
    },
    {
     "name": "stdout",
     "output_type": "stream",
     "text": [
      "2022-08-03 09:30:02,281 copying C:\\Users\\LENOVO\\AppData\\Local\\Temp\\tmpvnpw02z5 to cache at C:\\Users\\LENOVO\\.flair\\models\\sentiment-en-mix-distillbert_4.pt\n"
     ]
    },
    {
     "name": "stderr",
     "output_type": "stream",
     "text": [
      "\n"
     ]
    },
    {
     "name": "stdout",
     "output_type": "stream",
     "text": [
      "2022-08-03 09:30:08,898 removing temp file C:\\Users\\LENOVO\\AppData\\Local\\Temp\\tmpvnpw02z5\n",
      "2022-08-03 09:30:09,468 loading file C:\\Users\\LENOVO\\.flair\\models\\sentiment-en-mix-distillbert_4.pt\n"
     ]
    },
    {
     "name": "stderr",
     "output_type": "stream",
     "text": [
      "Downloading: 100%|██████████| 28.0/28.0 [00:00<00:00, 9.25kB/s]\n",
      "Downloading: 100%|██████████| 483/483 [00:00<00:00, 242kB/s]\n",
      "Downloading: 100%|██████████| 226k/226k [00:00<00:00, 260kB/s]  \n",
      "Downloading: 100%|██████████| 455k/455k [00:01<00:00, 422kB/s]  \n"
     ]
    }
   ],
   "source": [
    "import flair \n",
    "sentiment_model = flair.models.TextClassifier.load('en-sentiment')"
   ]
  },
  {
   "cell_type": "code",
   "execution_count": 31,
   "metadata": {},
   "outputs": [],
   "source": [
    "text = \"Tesla stock has fallen by 10.5% over this weekend\""
   ]
  },
  {
   "cell_type": "code",
   "execution_count": 32,
   "metadata": {},
   "outputs": [],
   "source": [
    "sentence = flair.data.Sentence(text)\n",
    "sentiment_model.predict(sentence)"
   ]
  },
  {
   "cell_type": "code",
   "execution_count": 33,
   "metadata": {},
   "outputs": [
    {
     "data": {
      "text/plain": [
       "Sentence: \"Tesla stock has fallen by 10.5 % over this weekend\" → NEGATIVE (0.9999)"
      ]
     },
     "execution_count": 33,
     "metadata": {},
     "output_type": "execute_result"
    }
   ],
   "source": [
    "sentence"
   ]
  },
  {
   "cell_type": "code",
   "execution_count": 36,
   "metadata": {},
   "outputs": [],
   "source": [
    "me = flair.data.Sentence(summaries['BTC'])"
   ]
  },
  {
   "cell_type": "code",
   "execution_count": 90,
   "metadata": {},
   "outputs": [],
   "source": [
    "import pandas as pd"
   ]
  },
  {
   "cell_type": "code",
   "execution_count": 105,
   "metadata": {},
   "outputs": [],
   "source": [
    "def news(summaries):\n",
    "    probs = []\n",
    "    sentiments = []\n",
    "    for summmary in summaries:\n",
    "        sentence = flair.data.Sentence(summmary)\n",
    "        sentiment_model.predict(sentence)\n",
    "        \n",
    "        # print(sentence)\n",
    "        # Extract sentiment prediction\n",
    "        probs.append(sentence.labels[0].score)\n",
    "        sentiments.append(sentence.labels[0].value)\n",
    "        \n",
    "    data = {'Probs': probs,\n",
    "            'Sentiments': sentiments}\n",
    "    probs_sentiment = pd.DataFrame(data)\n",
    "    return probs_sentiment"
   ]
  },
  {
   "cell_type": "code",
   "execution_count": 106,
   "metadata": {},
   "outputs": [
    {
     "data": {
      "text/plain": [
       "{'GME':        Probs Sentiments\n",
       " 0   0.998128   POSITIVE\n",
       " 1   0.968114   NEGATIVE\n",
       " 2   0.855187   NEGATIVE\n",
       " 3   0.836615   POSITIVE\n",
       " 4   0.972137   NEGATIVE\n",
       " 5   0.618895   POSITIVE\n",
       " 6   0.993245   POSITIVE\n",
       " 7   0.949120   POSITIVE\n",
       " 8   0.848616   POSITIVE\n",
       " 9   0.972733   NEGATIVE\n",
       " 10  0.998053   POSITIVE\n",
       " 11  0.770321   POSITIVE,\n",
       " 'TSLA':        Probs Sentiments\n",
       " 0   0.998128   POSITIVE\n",
       " 1   0.997564   NEGATIVE\n",
       " 2   0.971101   POSITIVE\n",
       " 3   0.787095   NEGATIVE\n",
       " 4   0.972137   NEGATIVE\n",
       " 5   0.991269   NEGATIVE\n",
       " 6   0.995243   NEGATIVE\n",
       " 7   0.968061   NEGATIVE\n",
       " 8   0.999076   NEGATIVE\n",
       " 9   0.795832   NEGATIVE\n",
       " 10  0.999328   NEGATIVE\n",
       " 11  0.995559   POSITIVE,\n",
       " 'BTC':        Probs Sentiments\n",
       " 0   0.999875   NEGATIVE\n",
       " 1   0.991306   POSITIVE\n",
       " 2   0.998128   POSITIVE\n",
       " 3   0.999800   NEGATIVE\n",
       " 4   0.972137   NEGATIVE\n",
       " 5   0.936211   NEGATIVE\n",
       " 6   0.999677   NEGATIVE\n",
       " 7   0.722814   NEGATIVE\n",
       " 8   0.998836   NEGATIVE\n",
       " 9   0.999875   NEGATIVE\n",
       " 10  0.948087   NEGATIVE\n",
       " 11  0.999963   NEGATIVE}"
      ]
     },
     "execution_count": 106,
     "metadata": {},
     "output_type": "execute_result"
    }
   ],
   "source": [
    "Probs_Sentiments = {ticker:news(summaries[ticker]) for ticker in monitored_tickers}\n",
    "Probs_Sentiments"
   ]
  },
  {
   "cell_type": "code",
   "execution_count": 143,
   "metadata": {},
   "outputs": [],
   "source": [
    "def news(articles, summaries, cleaned_urls):\n",
    "    probs = []\n",
    "    sentiments = []\n",
    "    for article in articles:\n",
    "        sentence = flair.data.Sentence(article)\n",
    "        sentiment_model.predict(sentence)\n",
    "        \n",
    "        # print(sentence)\n",
    "        # Extract sentiment prediction\n",
    "        probs.append(sentence.labels[0].score)\n",
    "        sentiments.append(sentence.labels[0].value)\n",
    "        \n",
    "    data = {'Probs': probs,\n",
    "            'Sentiments': sentiments,\n",
    "            'Articles': articles,\n",
    "            'Summaries': summaries,\n",
    "            'URLs': cleaned_urls}\n",
    "    return data"
   ]
  },
  {
   "cell_type": "code",
   "execution_count": 150,
   "metadata": {},
   "outputs": [],
   "source": [
    "data = {ticker:news(articles[ticker], summaries[ticker], cleaned_urls[ticker]) for ticker in monitored_tickers}\n",
    "Probs_Sentiments = pd.DataFrame(data)"
   ]
  },
  {
   "cell_type": "code",
   "execution_count": 151,
   "metadata": {},
   "outputs": [
    {
     "data": {
      "text/html": [
       "<div>\n",
       "<style scoped>\n",
       "    .dataframe tbody tr th:only-of-type {\n",
       "        vertical-align: middle;\n",
       "    }\n",
       "\n",
       "    .dataframe tbody tr th {\n",
       "        vertical-align: top;\n",
       "    }\n",
       "\n",
       "    .dataframe thead th {\n",
       "        text-align: right;\n",
       "    }\n",
       "</style>\n",
       "<table border=\"1\" class=\"dataframe\">\n",
       "  <thead>\n",
       "    <tr style=\"text-align: right;\">\n",
       "      <th></th>\n",
       "      <th>GME</th>\n",
       "      <th>TSLA</th>\n",
       "      <th>BTC</th>\n",
       "    </tr>\n",
       "  </thead>\n",
       "  <tbody>\n",
       "    <tr>\n",
       "      <th>Probs</th>\n",
       "      <td>[0.924636960029602, 0.9998990297317505, 0.9997...</td>\n",
       "      <td>[0.924636960029602, 0.9938585162162781, 0.9860...</td>\n",
       "      <td>[0.5979259610176086, 0.9932439923286438, 0.924...</td>\n",
       "    </tr>\n",
       "    <tr>\n",
       "      <th>Sentiments</th>\n",
       "      <td>[POSITIVE, NEGATIVE, NEGATIVE, NEGATIVE, POSIT...</td>\n",
       "      <td>[POSITIVE, NEGATIVE, NEGATIVE, NEGATIVE, POSIT...</td>\n",
       "      <td>[NEGATIVE, NEGATIVE, POSITIVE, NEGATIVE, POSIT...</td>\n",
       "    </tr>\n",
       "    <tr>\n",
       "      <th>Articles</th>\n",
       "      <td>[Effective 5 January 2022 | Archived versions ...</td>\n",
       "      <td>[Effective 5 January 2022 | Archived versions ...</td>\n",
       "      <td>[Ether has flipped bitcoin for the first time ...</td>\n",
       "    </tr>\n",
       "    <tr>\n",
       "      <th>Summaries</th>\n",
       "      <td>[Terms of Service apply to all of our products...</td>\n",
       "      <td>[Terms of Service apply to all of our products...</td>\n",
       "      <td>[Deribit saw $5.7bn of ether options trades on...</td>\n",
       "    </tr>\n",
       "    <tr>\n",
       "      <th>URLs</th>\n",
       "      <td>[https://policies.google.com/terms?hl=en-IN, h...</td>\n",
       "      <td>[https://policies.google.com/terms?hl=en-IN, h...</td>\n",
       "      <td>[https://finance.yahoo.com/news/ethereum-bitco...</td>\n",
       "    </tr>\n",
       "  </tbody>\n",
       "</table>\n",
       "</div>"
      ],
      "text/plain": [
       "                                                          GME  \\\n",
       "Probs       [0.924636960029602, 0.9998990297317505, 0.9997...   \n",
       "Sentiments  [POSITIVE, NEGATIVE, NEGATIVE, NEGATIVE, POSIT...   \n",
       "Articles    [Effective 5 January 2022 | Archived versions ...   \n",
       "Summaries   [Terms of Service apply to all of our products...   \n",
       "URLs        [https://policies.google.com/terms?hl=en-IN, h...   \n",
       "\n",
       "                                                         TSLA  \\\n",
       "Probs       [0.924636960029602, 0.9938585162162781, 0.9860...   \n",
       "Sentiments  [POSITIVE, NEGATIVE, NEGATIVE, NEGATIVE, POSIT...   \n",
       "Articles    [Effective 5 January 2022 | Archived versions ...   \n",
       "Summaries   [Terms of Service apply to all of our products...   \n",
       "URLs        [https://policies.google.com/terms?hl=en-IN, h...   \n",
       "\n",
       "                                                          BTC  \n",
       "Probs       [0.5979259610176086, 0.9932439923286438, 0.924...  \n",
       "Sentiments  [NEGATIVE, NEGATIVE, POSITIVE, NEGATIVE, POSIT...  \n",
       "Articles    [Ether has flipped bitcoin for the first time ...  \n",
       "Summaries   [Deribit saw $5.7bn of ether options trades on...  \n",
       "URLs        [https://finance.yahoo.com/news/ethereum-bitco...  "
      ]
     },
     "execution_count": 151,
     "metadata": {},
     "output_type": "execute_result"
    }
   ],
   "source": [
    "Probs_Sentiments"
   ]
  }
 ],
 "metadata": {
  "kernelspec": {
   "display_name": "Python 3.9.7 ('base')",
   "language": "python",
   "name": "python3"
  },
  "language_info": {
   "codemirror_mode": {
    "name": "ipython",
    "version": 3
   },
   "file_extension": ".py",
   "mimetype": "text/x-python",
   "name": "python",
   "nbconvert_exporter": "python",
   "pygments_lexer": "ipython3",
   "version": "3.9.7"
  },
  "orig_nbformat": 4,
  "vscode": {
   "interpreter": {
    "hash": "7679c2132d3f6ce38c9df14d554b39c06862b36a4e6689c81f9ae15bd0911d7d"
   }
  }
 },
 "nbformat": 4,
 "nbformat_minor": 2
}
